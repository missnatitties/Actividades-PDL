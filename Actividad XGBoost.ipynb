{
 "cells": [
  {
   "cell_type": "code",
   "execution_count": 1,
   "metadata": {},
   "outputs": [],
   "source": [
    "import numpy as np\n",
    "import pandas as pd\n",
    "import matplotlib.pyplot as plt\n",
    "import seaborn as sns\n",
    "\n",
    "import xgboost as xgb\n",
    "from xgboost import XGBRegressor, plot_tree\n",
    "\n",
    "from sklearn.model_selection import train_test_split, GridSearchCV\n",
    "from sklearn.linear_model import LinearRegression, Lasso, Ridge, ElasticNet, LogisticRegression\n",
    "from sklearn.neighbors import KNeighborsRegressor\n",
    "from sklearn.tree import DecisionTreeRegressor\n",
    "from sklearn.ensemble import RandomForestRegressor\n",
    "from sklearn import datasets\n",
    "\n",
    "%matplotlib inline"
   ]
  },
  {
   "cell_type": "code",
   "execution_count": 2,
   "metadata": {},
   "outputs": [
    {
     "data": {
      "text/html": [
       "<div>\n",
       "<style scoped>\n",
       "    .dataframe tbody tr th:only-of-type {\n",
       "        vertical-align: middle;\n",
       "    }\n",
       "\n",
       "    .dataframe tbody tr th {\n",
       "        vertical-align: top;\n",
       "    }\n",
       "\n",
       "    .dataframe thead th {\n",
       "        text-align: right;\n",
       "    }\n",
       "</style>\n",
       "<table border=\"1\" class=\"dataframe\">\n",
       "  <thead>\n",
       "    <tr style=\"text-align: right;\">\n",
       "      <th></th>\n",
       "      <th>Unnamed: 0</th>\n",
       "      <th>crim</th>\n",
       "      <th>zn</th>\n",
       "      <th>indus</th>\n",
       "      <th>chas</th>\n",
       "      <th>nox</th>\n",
       "      <th>rm</th>\n",
       "      <th>age</th>\n",
       "      <th>dis</th>\n",
       "      <th>rad</th>\n",
       "      <th>tax</th>\n",
       "      <th>ptratio</th>\n",
       "      <th>black</th>\n",
       "      <th>lstat</th>\n",
       "      <th>medv</th>\n",
       "    </tr>\n",
       "  </thead>\n",
       "  <tbody>\n",
       "    <tr>\n",
       "      <th>0</th>\n",
       "      <td>1</td>\n",
       "      <td>0.00632</td>\n",
       "      <td>18.0</td>\n",
       "      <td>2.31</td>\n",
       "      <td>0</td>\n",
       "      <td>0.538</td>\n",
       "      <td>6.575</td>\n",
       "      <td>65.2</td>\n",
       "      <td>4.09</td>\n",
       "      <td>1</td>\n",
       "      <td>296</td>\n",
       "      <td>15.3</td>\n",
       "      <td>396.9</td>\n",
       "      <td>4.98</td>\n",
       "      <td>24.0</td>\n",
       "    </tr>\n",
       "  </tbody>\n",
       "</table>\n",
       "</div>"
      ],
      "text/plain": [
       "   Unnamed: 0     crim    zn  indus  chas    nox     rm   age   dis  rad  tax  \\\n",
       "0           1  0.00632  18.0   2.31     0  0.538  6.575  65.2  4.09    1  296   \n",
       "\n",
       "   ptratio  black  lstat  medv  \n",
       "0     15.3  396.9   4.98  24.0  "
      ]
     },
     "execution_count": 2,
     "metadata": {},
     "output_type": "execute_result"
    }
   ],
   "source": [
    "boston = pd.read_csv('Boston.csv')\n",
    "boston.head(1)"
   ]
  },
  {
   "cell_type": "code",
   "execution_count": 3,
   "metadata": {},
   "outputs": [],
   "source": [
    "y = boston['medv']\n",
    "X = boston.drop(columns=['medv','Unnamed: 0'])"
   ]
  },
  {
   "cell_type": "code",
   "execution_count": 4,
   "metadata": {},
   "outputs": [
    {
     "data": {
      "text/plain": [
       "Index(['crim', 'zn', 'indus', 'chas', 'nox', 'rm', 'age', 'dis', 'rad', 'tax',\n",
       "       'ptratio', 'black', 'lstat'],\n",
       "      dtype='object')"
      ]
     },
     "execution_count": 4,
     "metadata": {},
     "output_type": "execute_result"
    }
   ],
   "source": [
    "X.columns"
   ]
  },
  {
   "cell_type": "code",
   "execution_count": 5,
   "metadata": {},
   "outputs": [],
   "source": [
    "X_train,X_test,y_train,y_test=train_test_split(X,y,test_size=0.2, random_state=1)"
   ]
  },
  {
   "attachments": {},
   "cell_type": "markdown",
   "metadata": {},
   "source": [
    "Comparación de modelos"
   ]
  },
  {
   "cell_type": "code",
   "execution_count": 6,
   "metadata": {},
   "outputs": [],
   "source": [
    "knn = KNeighborsRegressor().fit(X_train,y_train).predict(X_test).flatten()"
   ]
  },
  {
   "cell_type": "code",
   "execution_count": 7,
   "metadata": {},
   "outputs": [],
   "source": [
    "lr = LinearRegression().fit(X_train,y_train).predict(X_test).flatten()"
   ]
  },
  {
   "cell_type": "code",
   "execution_count": 8,
   "metadata": {},
   "outputs": [],
   "source": [
    "lasso = Lasso().fit(X_train,y_train).predict(X_test).flatten()"
   ]
  },
  {
   "cell_type": "code",
   "execution_count": 9,
   "metadata": {},
   "outputs": [],
   "source": [
    "ridge = Ridge().fit(X_train,y_train).predict(X_test).flatten()"
   ]
  },
  {
   "cell_type": "code",
   "execution_count": 10,
   "metadata": {},
   "outputs": [],
   "source": [
    "en = ElasticNet().fit(X_train,y_train).predict(X_test).flatten()"
   ]
  },
  {
   "cell_type": "code",
   "execution_count": 11,
   "metadata": {},
   "outputs": [],
   "source": [
    "dt = DecisionTreeRegressor().fit(X_train,y_train).predict(X_test).flatten()"
   ]
  },
  {
   "cell_type": "code",
   "execution_count": 12,
   "metadata": {},
   "outputs": [],
   "source": [
    "rf = RandomForestRegressor().fit(X_train,y_train).predict(X_test).flatten()"
   ]
  },
  {
   "cell_type": "code",
   "execution_count": 13,
   "metadata": {},
   "outputs": [],
   "source": [
    "xgboost = XGBRegressor().fit(X_train,y_train).predict(X_test).flatten()"
   ]
  },
  {
   "attachments": {},
   "cell_type": "markdown",
   "metadata": {},
   "source": [
    "* Primero guardamos los resultados en listas"
   ]
  },
  {
   "cell_type": "code",
   "execution_count": 14,
   "metadata": {},
   "outputs": [
    {
     "data": {
      "text/html": [
       "<div>\n",
       "<style scoped>\n",
       "    .dataframe tbody tr th:only-of-type {\n",
       "        vertical-align: middle;\n",
       "    }\n",
       "\n",
       "    .dataframe tbody tr th {\n",
       "        vertical-align: top;\n",
       "    }\n",
       "\n",
       "    .dataframe thead th {\n",
       "        text-align: right;\n",
       "    }\n",
       "</style>\n",
       "<table border=\"1\" class=\"dataframe\">\n",
       "  <thead>\n",
       "    <tr style=\"text-align: right;\">\n",
       "      <th></th>\n",
       "      <th>knn</th>\n",
       "      <th>lr</th>\n",
       "      <th>lasso</th>\n",
       "      <th>ridge</th>\n",
       "      <th>en</th>\n",
       "      <th>dt</th>\n",
       "      <th>rf</th>\n",
       "      <th>xgboost</th>\n",
       "    </tr>\n",
       "  </thead>\n",
       "  <tbody>\n",
       "    <tr>\n",
       "      <th>0</th>\n",
       "      <td>30.46</td>\n",
       "      <td>32.655032</td>\n",
       "      <td>30.798187</td>\n",
       "      <td>32.511398</td>\n",
       "      <td>31.348467</td>\n",
       "      <td>33.0</td>\n",
       "      <td>30.329</td>\n",
       "      <td>30.359884</td>\n",
       "    </tr>\n",
       "    <tr>\n",
       "      <th>1</th>\n",
       "      <td>30.70</td>\n",
       "      <td>28.093495</td>\n",
       "      <td>28.618170</td>\n",
       "      <td>28.265232</td>\n",
       "      <td>28.679029</td>\n",
       "      <td>33.0</td>\n",
       "      <td>28.050</td>\n",
       "      <td>27.026636</td>\n",
       "    </tr>\n",
       "    <tr>\n",
       "      <th>2</th>\n",
       "      <td>21.72</td>\n",
       "      <td>18.029018</td>\n",
       "      <td>17.964730</td>\n",
       "      <td>17.528444</td>\n",
       "      <td>17.886279</td>\n",
       "      <td>21.7</td>\n",
       "      <td>19.831</td>\n",
       "      <td>19.176161</td>\n",
       "    </tr>\n",
       "    <tr>\n",
       "      <th>3</th>\n",
       "      <td>26.34</td>\n",
       "      <td>21.476716</td>\n",
       "      <td>23.055233</td>\n",
       "      <td>21.330290</td>\n",
       "      <td>22.641323</td>\n",
       "      <td>18.6</td>\n",
       "      <td>20.872</td>\n",
       "      <td>21.448114</td>\n",
       "    </tr>\n",
       "    <tr>\n",
       "      <th>4</th>\n",
       "      <td>30.34</td>\n",
       "      <td>18.825439</td>\n",
       "      <td>24.371706</td>\n",
       "      <td>19.680651</td>\n",
       "      <td>23.889703</td>\n",
       "      <td>15.0</td>\n",
       "      <td>19.777</td>\n",
       "      <td>20.703493</td>\n",
       "    </tr>\n",
       "  </tbody>\n",
       "</table>\n",
       "</div>"
      ],
      "text/plain": [
       "     knn         lr      lasso      ridge         en    dt      rf    xgboost\n",
       "0  30.46  32.655032  30.798187  32.511398  31.348467  33.0  30.329  30.359884\n",
       "1  30.70  28.093495  28.618170  28.265232  28.679029  33.0  28.050  27.026636\n",
       "2  21.72  18.029018  17.964730  17.528444  17.886279  21.7  19.831  19.176161\n",
       "3  26.34  21.476716  23.055233  21.330290  22.641323  18.6  20.872  21.448114\n",
       "4  30.34  18.825439  24.371706  19.680651  23.889703  15.0  19.777  20.703493"
      ]
     },
     "execution_count": 14,
     "metadata": {},
     "output_type": "execute_result"
    }
   ],
   "source": [
    "outputs = pd.DataFrame(data=[knn,lr,lasso,ridge,en,dt,rf,xgboost]).T\n",
    "outputs.columns=['knn','lr','lasso','ridge','en','dt','rf','xgboost']\n",
    "outputs.head()"
   ]
  },
  {
   "cell_type": "code",
   "execution_count": 15,
   "metadata": {},
   "outputs": [],
   "source": [
    "from sklearn.metrics import r2_score"
   ]
  },
  {
   "attachments": {},
   "cell_type": "markdown",
   "metadata": {},
   "source": [
    "* Obtención de R2 en una lista"
   ]
  },
  {
   "cell_type": "code",
   "execution_count": 16,
   "metadata": {},
   "outputs": [
    {
     "name": "stdout",
     "output_type": "stream",
     "text": [
      "[0.5401612153026705, 0.7634174432138464, 0.6399927356461494, 0.7655800611077146, 0.6662534357446654, 0.8015900911744656, 0.9142506092977072, 0.9085331557145866]\n"
     ]
    }
   ],
   "source": [
    "scores = []\n",
    "\n",
    "for i in outputs.columns:\n",
    "    r2 = r2_score(y_test,outputs[i])\n",
    "    scores.append(r2)\n",
    "\n",
    "print(scores)"
   ]
  },
  {
   "attachments": {},
   "cell_type": "markdown",
   "metadata": {},
   "source": [
    "* Transformación de lista a DF"
   ]
  },
  {
   "cell_type": "code",
   "execution_count": 17,
   "metadata": {},
   "outputs": [
    {
     "data": {
      "text/html": [
       "<div>\n",
       "<style scoped>\n",
       "    .dataframe tbody tr th:only-of-type {\n",
       "        vertical-align: middle;\n",
       "    }\n",
       "\n",
       "    .dataframe tbody tr th {\n",
       "        vertical-align: top;\n",
       "    }\n",
       "\n",
       "    .dataframe thead th {\n",
       "        text-align: right;\n",
       "    }\n",
       "</style>\n",
       "<table border=\"1\" class=\"dataframe\">\n",
       "  <thead>\n",
       "    <tr style=\"text-align: right;\">\n",
       "      <th></th>\n",
       "      <th>knn</th>\n",
       "      <th>lr</th>\n",
       "      <th>lasso</th>\n",
       "      <th>ridge</th>\n",
       "      <th>en</th>\n",
       "      <th>dt</th>\n",
       "      <th>rf</th>\n",
       "      <th>xgboost</th>\n",
       "    </tr>\n",
       "  </thead>\n",
       "  <tbody>\n",
       "    <tr>\n",
       "      <th>0</th>\n",
       "      <td>0.540161</td>\n",
       "      <td>0.763417</td>\n",
       "      <td>0.639993</td>\n",
       "      <td>0.76558</td>\n",
       "      <td>0.666253</td>\n",
       "      <td>0.80159</td>\n",
       "      <td>0.914251</td>\n",
       "      <td>0.908533</td>\n",
       "    </tr>\n",
       "  </tbody>\n",
       "</table>\n",
       "</div>"
      ],
      "text/plain": [
       "        knn        lr     lasso    ridge        en       dt        rf  \\\n",
       "0  0.540161  0.763417  0.639993  0.76558  0.666253  0.80159  0.914251   \n",
       "\n",
       "    xgboost  \n",
       "0  0.908533  "
      ]
     },
     "execution_count": 17,
     "metadata": {},
     "output_type": "execute_result"
    }
   ],
   "source": [
    "scores = pd.DataFrame(data=scores).T\n",
    "scores.columns=['knn','lr','lasso','ridge','en','dt','rf','xgboost']\n",
    "scores"
   ]
  },
  {
   "cell_type": "code",
   "execution_count": 18,
   "metadata": {},
   "outputs": [
    {
     "data": {
      "image/png": "[encoded data removed]",
      "text/plain": [
       "<Figure size 1500x800 with 1 Axes>"
      ]
     },
     "metadata": {},
     "output_type": "display_data"
    }
   ],
   "source": [
    "fig, ax = plt.subplots(figsize=(15,8))\n",
    "plt.bar(scores.columns,sorted(scores.T[0]), color='pink')\n",
    "plt.ylabel('r2')\n",
    "plt.xlabel('Model')\n",
    "plt.show()"
   ]
  },
  {
   "attachments": {},
   "cell_type": "markdown",
   "metadata": {},
   "source": [
    "* Se observa que XGBoost es el que tiene mejor rendimiento; aunque es muy parecido al desempeño de RF. El de peor desempeño fue el KNN"
   ]
  },
  {
   "attachments": {},
   "cell_type": "markdown",
   "metadata": {},
   "source": [
    "Mejorando los hiperparámetros de cada modelo"
   ]
  },
  {
   "cell_type": "code",
   "execution_count": 19,
   "metadata": {},
   "outputs": [],
   "source": [
    "def gs_best(params,model,model_name):\n",
    "    gs=GridSearchCV(model(), params, cv=5, n_jobs=1, verbose=1)\n",
    "    gs.fit(X_train,y_train)\n",
    "    best=model(**gs.best_params_).fit(X_train,y_train)\n",
    "    y_hat=best.predict(X_test)\n",
    "    r2=r2_score(y_test,y_hat)\n",
    "\n",
    "    return best, r2"
   ]
  },
  {
   "cell_type": "code",
   "execution_count": 20,
   "metadata": {},
   "outputs": [],
   "source": [
    "knn_params={'n_neighbors':[3,5,7,9], 'metric':['manhattan', 'euclidean'], 'weights':['uniform', 'distance']}\n",
    "lr_params={}\n",
    "lasso_params={'alpha':[1,100,1000,10000]}\n",
    "ridge_params={'alpha':[1,100,1000,10000]}\n",
    "en_params={'max_iter':[100000], 'selection':['cyclic', 'random']}\n",
    "dt_params= {'max_depth':[3,4,5]}\n",
    "rf_params={'n_estimators':[2,4,6,8]}\n",
    "xgboost_params={'max_depth':[4,5], 'n_estimators':[10,20,30], 'learning_rate':[0.3,0.03]}"
   ]
  },
  {
   "cell_type": "code",
   "execution_count": 21,
   "metadata": {},
   "outputs": [
    {
     "name": "stdout",
     "output_type": "stream",
     "text": [
      "Fitting 5 folds for each of 16 candidates, totalling 80 fits\n",
      "R2 de KNN: 0.6508830800717474\n",
      "Fitting 5 folds for each of 1 candidates, totalling 5 fits\n",
      "R2 de LR: 0.7634174432138464\n",
      "Fitting 5 folds for each of 4 candidates, totalling 20 fits\n",
      "R2 de LASSO: 0.6399927356461494\n",
      "Fitting 5 folds for each of 4 candidates, totalling 20 fits\n",
      "R2 de RIDGE: 0.7655800611077146\n",
      "Fitting 5 folds for each of 2 candidates, totalling 10 fits\n",
      "R2 de EN: 0.6662542980426018\n",
      "Fitting 5 folds for each of 3 candidates, totalling 15 fits\n",
      "R2 de DT: 0.7103909677436429\n",
      "Fitting 5 folds for each of 4 candidates, totalling 20 fits\n",
      "R2 de RF: 0.91849219349713\n",
      "Fitting 5 folds for each of 12 candidates, totalling 60 fits\n",
      "R2 de XGB: 0.9177082576000329\n"
     ]
    }
   ],
   "source": [
    "(model,r2_knn) = gs_best(knn_params,KNeighborsRegressor,'KNN')\n",
    "print('R2 de KNN:', r2_knn)\n",
    "(model,r2_lr) = gs_best(lr_params,LinearRegression,'LR')\n",
    "print('R2 de LR:', r2_lr)\n",
    "(model,r2_lasso) = gs_best(lasso_params,Lasso,'LASSO')\n",
    "print('R2 de LASSO:', r2_lasso)\n",
    "(model,r2_ridge) = gs_best(ridge_params,Ridge,'RIDGE')\n",
    "print('R2 de RIDGE:', r2_ridge)\n",
    "(model,r2_en) = gs_best(en_params,ElasticNet,'EN')\n",
    "print('R2 de EN:', r2_en)\n",
    "(model,r2_dt) = gs_best(dt_params,DecisionTreeRegressor,'DT')\n",
    "print('R2 de DT:', r2_dt)\n",
    "(model,r2_rf) = gs_best(rf_params,RandomForestRegressor,'RF')\n",
    "print('R2 de RF:', r2_rf)\n",
    "(model,r2_xgb) = gs_best(xgboost_params,XGBRegressor,'XGB')\n",
    "print('R2 de XGB:', r2_xgb)\n",
    "\n"
   ]
  },
  {
   "cell_type": "code",
   "execution_count": 22,
   "metadata": {},
   "outputs": [
    {
     "data": {
      "text/html": [
       "<div>\n",
       "<style scoped>\n",
       "    .dataframe tbody tr th:only-of-type {\n",
       "        vertical-align: middle;\n",
       "    }\n",
       "\n",
       "    .dataframe tbody tr th {\n",
       "        vertical-align: top;\n",
       "    }\n",
       "\n",
       "    .dataframe thead th {\n",
       "        text-align: right;\n",
       "    }\n",
       "</style>\n",
       "<table border=\"1\" class=\"dataframe\">\n",
       "  <thead>\n",
       "    <tr style=\"text-align: right;\">\n",
       "      <th></th>\n",
       "      <th>knn</th>\n",
       "      <th>lr</th>\n",
       "      <th>lasso</th>\n",
       "      <th>ridge</th>\n",
       "      <th>en</th>\n",
       "      <th>dt</th>\n",
       "      <th>rf</th>\n",
       "      <th>xgboost</th>\n",
       "    </tr>\n",
       "  </thead>\n",
       "  <tbody>\n",
       "    <tr>\n",
       "      <th>0</th>\n",
       "      <td>0.650883</td>\n",
       "      <td>0.763417</td>\n",
       "      <td>0.639993</td>\n",
       "      <td>0.76558</td>\n",
       "      <td>0.666254</td>\n",
       "      <td>0.710391</td>\n",
       "      <td>0.918492</td>\n",
       "      <td>0.917708</td>\n",
       "    </tr>\n",
       "  </tbody>\n",
       "</table>\n",
       "</div>"
      ],
      "text/plain": [
       "        knn        lr     lasso    ridge        en        dt        rf  \\\n",
       "0  0.650883  0.763417  0.639993  0.76558  0.666254  0.710391  0.918492   \n",
       "\n",
       "    xgboost  \n",
       "0  0.917708  "
      ]
     },
     "execution_count": 22,
     "metadata": {},
     "output_type": "execute_result"
    }
   ],
   "source": [
    "outputs_gs = pd.DataFrame(data=[r2_knn,r2_lr,r2_lasso,r2_ridge,r2_en,r2_dt,r2_rf,r2_xgb]).T\n",
    "outputs_gs.columns=['knn','lr','lasso','ridge','en','dt','rf','xgboost']\n",
    "outputs_gs.head()"
   ]
  },
  {
   "cell_type": "code",
   "execution_count": 23,
   "metadata": {},
   "outputs": [
    {
     "data": {
      "image/png": "[encoded data removed]",
      "text/plain": [
       "<Figure size 1500x800 with 1 Axes>"
      ]
     },
     "metadata": {},
     "output_type": "display_data"
    }
   ],
   "source": [
    "fig, ax = plt.subplots(figsize=(15,8))\n",
    "plt.bar(outputs_gs.columns,sorted(outputs_gs.T[0]), color='pink')\n",
    "plt.ylabel('r2')\n",
    "plt.xlabel('Model')\n",
    "plt.title('Optimizando los parámetros')\n",
    "plt.show()"
   ]
  },
  {
   "attachments": {},
   "cell_type": "markdown",
   "metadata": {},
   "source": [
    "* Nuevamente, con mejor desempeño se encuentre el modelo XGBoost y, marginalmente abajo, RF. El peor modelo, tras optimizar sus parámetros, es Lasso"
   ]
  },
  {
   "attachments": {},
   "cell_type": "markdown",
   "metadata": {},
   "source": [
    "Ahora, cambiando el parámetro 'max_depth' a 1..."
   ]
  },
  {
   "cell_type": "code",
   "execution_count": 24,
   "metadata": {},
   "outputs": [
    {
     "name": "stdout",
     "output_type": "stream",
     "text": [
      "Fitting 5 folds for each of 6 candidates, totalling 30 fits\n",
      "R2 de XGB: 0.8608704355144288\n"
     ]
    }
   ],
   "source": [
    "xgboost_params={'max_depth':[1], 'n_estimators':[10,20,30], 'learning_rate':[0.3,0.03]}\n",
    "(model,r2_xgb) = gs_best(xgboost_params,XGBRegressor,'XGB')\n",
    "print('R2 de XGB:', r2_xgb)"
   ]
  },
  {
   "attachments": {},
   "cell_type": "markdown",
   "metadata": {},
   "source": [
    "Viendo la importancia de las variables"
   ]
  },
  {
   "cell_type": "code",
   "execution_count": 25,
   "metadata": {},
   "outputs": [
    {
     "data": {
      "image/png": "[encoded data removed]",
      "text/plain": [
       "<Figure size 640x480 with 1 Axes>"
      ]
     },
     "metadata": {},
     "output_type": "display_data"
    }
   ],
   "source": [
    "feature_importance = xgb.plot_importance(model)"
   ]
  },
  {
   "attachments": {},
   "cell_type": "markdown",
   "metadata": {},
   "source": [
    "Graficando los primeros seis boosted trees"
   ]
  },
  {
   "cell_type": "code",
   "execution_count": 26,
   "metadata": {},
   "outputs": [
    {
     "name": "stdout",
     "output_type": "stream",
     "text": [
      "Fitting 5 folds for each of 12 candidates, totalling 60 fits\n"
     ]
    }
   ],
   "source": [
    "xgboost_params={'max_depth':[4,5], 'n_estimators':[10,20,30], 'learning_rate':[0.3,0.03]}\n",
    "(model,r2_xgb) = gs_best(xgboost_params,XGBRegressor,'XGB')"
   ]
  },
  {
   "cell_type": "code",
   "execution_count": 27,
   "metadata": {},
   "outputs": [
    {
     "data": {
      "text/html": [
       "<style>#sk-container-id-1 {color: black;background-color: white;}#sk-container-id-1 pre{padding: 0;}#sk-container-id-1 div.sk-toggleable {background-color: white;}#sk-container-id-1 label.sk-toggleable__label {cursor: pointer;display: block;width: 100%;margin-bottom: 0;padding: 0.3em;box-sizing: border-box;text-align: center;}#sk-container-id-1 label.sk-toggleable__label-arrow:before {content: \"▸\";float: left;margin-right: 0.25em;color: #696969;}#sk-container-id-1 label.sk-toggleable__label-arrow:hover:before {color: black;}#sk-container-id-1 div.sk-estimator:hover label.sk-toggleable__label-arrow:before {color: black;}#sk-container-id-1 div.sk-toggleable__content {max-height: 0;max-width: 0;overflow: hidden;text-align: left;background-color: #f0f8ff;}#sk-container-id-1 div.sk-toggleable__content pre {margin: 0.2em;color: black;border-radius: 0.25em;background-color: #f0f8ff;}#sk-container-id-1 input.sk-toggleable__control:checked~div.sk-toggleable__content {max-height: 200px;max-width: 100%;overflow: auto;}#sk-container-id-1 input.sk-toggleable__control:checked~label.sk-toggleable__label-arrow:before {content: \"▾\";}#sk-container-id-1 div.sk-estimator input.sk-toggleable__control:checked~label.sk-toggleable__label {background-color: #d4ebff;}#sk-container-id-1 div.sk-label input.sk-toggleable__control:checked~label.sk-toggleable__label {background-color: #d4ebff;}#sk-container-id-1 input.sk-hidden--visually {border: 0;clip: rect(1px 1px 1px 1px);clip: rect(1px, 1px, 1px, 1px);height: 1px;margin: -1px;overflow: hidden;padding: 0;position: absolute;width: 1px;}#sk-container-id-1 div.sk-estimator {font-family: monospace;background-color: #f0f8ff;border: 1px dotted black;border-radius: 0.25em;box-sizing: border-box;margin-bottom: 0.5em;}#sk-container-id-1 div.sk-estimator:hover {background-color: #d4ebff;}#sk-container-id-1 div.sk-parallel-item::after {content: \"\";width: 100%;border-bottom: 1px solid gray;flex-grow: 1;}#sk-container-id-1 div.sk-label:hover label.sk-toggleable__label {background-color: #d4ebff;}#sk-container-id-1 div.sk-serial::before {content: \"\";position: absolute;border-left: 1px solid gray;box-sizing: border-box;top: 0;bottom: 0;left: 50%;z-index: 0;}#sk-container-id-1 div.sk-serial {display: flex;flex-direction: column;align-items: center;background-color: white;padding-right: 0.2em;padding-left: 0.2em;position: relative;}#sk-container-id-1 div.sk-item {position: relative;z-index: 1;}#sk-container-id-1 div.sk-parallel {display: flex;align-items: stretch;justify-content: center;background-color: white;position: relative;}#sk-container-id-1 div.sk-item::before, #sk-container-id-1 div.sk-parallel-item::before {content: \"\";position: absolute;border-left: 1px solid gray;box-sizing: border-box;top: 0;bottom: 0;left: 50%;z-index: -1;}#sk-container-id-1 div.sk-parallel-item {display: flex;flex-direction: column;z-index: 1;position: relative;background-color: white;}#sk-container-id-1 div.sk-parallel-item:first-child::after {align-self: flex-end;width: 50%;}#sk-container-id-1 div.sk-parallel-item:last-child::after {align-self: flex-start;width: 50%;}#sk-container-id-1 div.sk-parallel-item:only-child::after {width: 0;}#sk-container-id-1 div.sk-dashed-wrapped {border: 1px dashed gray;margin: 0 0.4em 0.5em 0.4em;box-sizing: border-box;padding-bottom: 0.4em;background-color: white;}#sk-container-id-1 div.sk-label label {font-family: monospace;font-weight: bold;display: inline-block;line-height: 1.2em;}#sk-container-id-1 div.sk-label-container {text-align: center;}#sk-container-id-1 div.sk-container {/* jupyter's `normalize.less` sets `[hidden] { display: none; }` but bootstrap.min.css set `[hidden] { display: none !important; }` so we also need the `!important` here to be able to override the default hidden behavior on the sphinx rendered scikit-learn.org. See: https://github.com/scikit-learn/scikit-learn/issues/21755 */display: inline-block !important;position: relative;}#sk-container-id-1 div.sk-text-repr-fallback {display: none;}</style><div id=\"sk-container-id-1\" class=\"sk-top-container\"><div class=\"sk-text-repr-fallback\"><pre>XGBRegressor(base_score=0.5, booster=&#x27;gbtree&#x27;, callbacks=None,\n",
       "             colsample_bylevel=1, colsample_bynode=1, colsample_bytree=1,\n",
       "             early_stopping_rounds=None, enable_categorical=False,\n",
       "             eval_metric=None, feature_types=None, gamma=0, gpu_id=-1,\n",
       "             grow_policy=&#x27;depthwise&#x27;, importance_type=None,\n",
       "             interaction_constraints=&#x27;&#x27;, learning_rate=0.3, max_bin=256,\n",
       "             max_cat_threshold=64, max_cat_to_onehot=4, max_delta_step=0,\n",
       "             max_depth=5, max_leaves=0, min_child_weight=1, missing=nan,\n",
       "             monotone_constraints=&#x27;()&#x27;, n_estimators=30, n_jobs=0,\n",
       "             num_parallel_tree=1, predictor=&#x27;auto&#x27;, random_state=0, ...)</pre><b>In a Jupyter environment, please rerun this cell to show the HTML representation or trust the notebook. <br />On GitHub, the HTML representation is unable to render, please try loading this page with nbviewer.org.</b></div><div class=\"sk-container\" hidden><div class=\"sk-item\"><div class=\"sk-estimator sk-toggleable\"><input class=\"sk-toggleable__control sk-hidden--visually\" id=\"sk-estimator-id-1\" type=\"checkbox\" checked><label for=\"sk-estimator-id-1\" class=\"sk-toggleable__label sk-toggleable__label-arrow\">XGBRegressor</label><div class=\"sk-toggleable__content\"><pre>XGBRegressor(base_score=0.5, booster=&#x27;gbtree&#x27;, callbacks=None,\n",
       "             colsample_bylevel=1, colsample_bynode=1, colsample_bytree=1,\n",
       "             early_stopping_rounds=None, enable_categorical=False,\n",
       "             eval_metric=None, feature_types=None, gamma=0, gpu_id=-1,\n",
       "             grow_policy=&#x27;depthwise&#x27;, importance_type=None,\n",
       "             interaction_constraints=&#x27;&#x27;, learning_rate=0.3, max_bin=256,\n",
       "             max_cat_threshold=64, max_cat_to_onehot=4, max_delta_step=0,\n",
       "             max_depth=5, max_leaves=0, min_child_weight=1, missing=nan,\n",
       "             monotone_constraints=&#x27;()&#x27;, n_estimators=30, n_jobs=0,\n",
       "             num_parallel_tree=1, predictor=&#x27;auto&#x27;, random_state=0, ...)</pre></div></div></div></div></div>"
      ],
      "text/plain": [
       "XGBRegressor(base_score=0.5, booster='gbtree', callbacks=None,\n",
       "             colsample_bylevel=1, colsample_bynode=1, colsample_bytree=1,\n",
       "             early_stopping_rounds=None, enable_categorical=False,\n",
       "             eval_metric=None, feature_types=None, gamma=0, gpu_id=-1,\n",
       "             grow_policy='depthwise', importance_type=None,\n",
       "             interaction_constraints='', learning_rate=0.3, max_bin=256,\n",
       "             max_cat_threshold=64, max_cat_to_onehot=4, max_delta_step=0,\n",
       "             max_depth=5, max_leaves=0, min_child_weight=1, missing=nan,\n",
       "             monotone_constraints='()', n_estimators=30, n_jobs=0,\n",
       "             num_parallel_tree=1, predictor='auto', random_state=0, ...)"
      ]
     },
     "execution_count": 27,
     "metadata": {},
     "output_type": "execute_result"
    }
   ],
   "source": [
    "model"
   ]
  },
  {
   "cell_type": "code",
   "execution_count": 28,
   "metadata": {},
   "outputs": [
    {
     "name": "stdout",
     "output_type": "stream",
     "text": [
      "Fitting 5 folds for each of 1 candidates, totalling 5 fits\n"
     ]
    }
   ],
   "source": [
    "xgboost_params={'max_depth':[5], 'learning_rate':[0.3]} \n",
    "(model,r2_xgb) = gs_best(xgboost_params,XGBRegressor,'XGB')\n",
    "# No se utiliza el parámetro n_estimators ya que se utilizará el 30 en num_boost_round dentro de xg_reg"
   ]
  },
  {
   "cell_type": "code",
   "execution_count": 29,
   "metadata": {},
   "outputs": [],
   "source": [
    "xgboost_params={'max_depth':5, 'learning_rate':0.3} \n",
    "data_dmatrix = xgb.DMatrix(data=X_train,label=y_train)"
   ]
  },
  {
   "cell_type": "code",
   "execution_count": 30,
   "metadata": {},
   "outputs": [],
   "source": [
    "xg_reg = xgb.train(params=xgboost_params, dtrain=data_dmatrix, num_boost_round=10)\n"
   ]
  },
  {
   "cell_type": "code",
   "execution_count": 31,
   "metadata": {},
   "outputs": [],
   "source": [
    "from sklearn.tree import plot_tree\n",
    "import graphviz"
   ]
  },
  {
   "cell_type": "code",
   "execution_count": null,
   "metadata": {},
   "outputs": [],
   "source": [
    "import matplotlib.pyplot as plt\n",
    "\n",
    "xgb.plot_tree(xg_reg,num_trees=0)\n",
    "plt.rcParams['figure.figsize'] = [50, 10]\n",
    "plt.show()"
   ]
  },
  {
   "attachments": {},
   "cell_type": "markdown",
   "metadata": {},
   "source": [
    "Crear 100 modelos XGBoost \\\n",
    "El primer modelo tendrá 1 árbol, el segundo tendrá 2 árboles,  y continuar hasta hasta el 100. \\\n",
    "Graficar el R-cuadrado en el eje Y vs el número de árboles en el eje X.\n"
   ]
  },
  {
   "cell_type": "code",
   "execution_count": 57,
   "metadata": {},
   "outputs": [],
   "source": [
    "r2_xgb = []\n",
    "for i in range(1,101):\n",
    "    yhat = XGBRegressor(n_estimators=i).fit(X_train,y_train).predict(X_test).flatten()\n",
    "    r2 = r2_score(y_test,yhat)\n",
    "    r2= None if r2 < 0 else r2\n",
    "    r2_xgb.append(r2)"
   ]
  },
  {
   "cell_type": "code",
   "execution_count": 58,
   "metadata": {},
   "outputs": [
    {
     "data": {
      "image/png": "[encoded data removed]",
      "text/plain": [
       "<Figure size 1500x800 with 1 Axes>"
      ]
     },
     "metadata": {},
     "output_type": "display_data"
    }
   ],
   "source": [
    "fig, ax = plt.subplots(figsize=(15,8))\n",
    "plt.plot(range(1,101),r2_xgb,color='orange')\n",
    "plt.ylabel('r2')\n",
    "plt.xlabel('Número de árboles')\n",
    "plt.title('Optimizando los parámetros')\n",
    "plt.show()"
   ]
  }
 ],
 "metadata": {
  "kernelspec": {
   "display_name": "Python 3",
   "language": "python",
   "name": "python3"
  },
  "language_info": {
   "codemirror_mode": {
    "name": "ipython",
    "version": 3
   },
   "file_extension": ".py",
   "mimetype": "text/x-python",
   "name": "python",
   "nbconvert_exporter": "python",
   "pygments_lexer": "ipython3",
   "version": "3.11.1"
  },
  "orig_nbformat": 4,
  "vscode": {
   "interpreter": {
    "hash": "eea9129ac0da676251298d3d8b90b597992a002f977ae73d6ae62613d9b197a3"
   }
  }
 },
 "nbformat": 4,
 "nbformat_minor": 2
}
