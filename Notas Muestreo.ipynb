{
 "cells": [
  {
   "cell_type": "markdown",
   "metadata": {},
   "source": [
    "# Muestreo de Distribuciones"
   ]
  },
  {
   "cell_type": "markdown",
   "metadata": {},
   "source": [
    "## Objetivos"
   ]
  },
  {
   "cell_type": "markdown",
   "metadata": {},
   "source": [
    "Que el estudiante ses capaz de:\n",
    "  - Comprender la diferencia entre población y muestra.\n",
    "  - Comprender la utilidad de los gráficos de dispersión, histogramas y la CDF empírica para visualizar una muestra.\n",
    "  - Diferenciar lo que significa que una muestra sea independiente e idénticamente distribuida.\n",
    "  - Definir la distribución muestral de un estadístico.\n",
    "  - Utilizar el bootstrapping para aproximar la distribución de una estadística.\n",
    "  - Utilizar el bootstrapping para aproximar un intervalo de confianza para un parámetro poblacional."
   ]
  },
  {
   "cell_type": "code",
   "execution_count": 1,
   "metadata": {},
   "outputs": [],
   "source": [
    "import numpy as np\n",
    "import matplotlib.pyplot as plt\n",
    "import scipy.stats as stats\n",
    "%matplotlib inline"
   ]
  },
  {
   "cell_type": "markdown",
   "metadata": {},
   "source": [
    "## Temario\n",
    "\n",
    "- Visualización\n",
    "- Media y Máximo\n",
    "- Muestra de la población\n",
    "- Intervalo de confianza\n",
    "- Teorema del límite central (para la media)\n",
    "- Bootstrap (para todas las demás estadísticas)"
   ]
  },
  {
   "cell_type": "markdown",
   "metadata": {},
   "source": [
    "## Visualización"
   ]
  },
  {
   "cell_type": "markdown",
   "metadata": {},
   "source": [
    "Crearemos un conjunto de datos aleatoio"
   ]
  },
  {
   "cell_type": "code",
   "execution_count": 2,
   "metadata": {},
   "outputs": [
    {
     "name": "stdout",
     "output_type": "stream",
     "text": [
      "[ 0.59671415 -0.0382643   0.74768854  1.62302986 -0.13415337 -0.13413696\n",
      "  1.67921282  0.86743473 -0.36947439  0.64256004 -0.36341769 -0.36572975\n",
      "  0.34196227 -1.81328024 -1.62491783 -0.46228753 -0.91283112  0.41424733\n",
      " -0.80802408 -1.3123037   1.56564877 -0.1257763   0.1675282  -1.32474819\n",
      " -0.44438272  0.21092259 -1.05099358  0.47569802 -0.50063869 -0.19169375\n",
      " -0.50170661  1.95227818  0.08650278 -0.95771093  0.92254491 -1.12084365\n",
      "  0.3088636  -1.85967012 -1.22818605  0.29686124  0.83846658  0.27136828\n",
      " -0.01564828 -0.2011037  -1.37852199 -0.61984421 -0.36063877  1.15712223\n",
      "  0.44361829 -1.66304016  0.42408397 -0.28508228 -0.576922    0.71167629\n",
      "  1.13099952  1.03128012 -0.73921752 -0.20921238  0.43126343  1.07554513\n",
      " -0.37917424 -0.08565898 -1.00633497 -1.09620662  0.91252582  1.45624003\n",
      "  0.02798988  1.1035329   0.46163603 -0.54511975  0.46139561  1.63803657\n",
      "  0.06417396  1.66464366 -2.5197451   0.9219025   0.18704707 -0.19900735\n",
      "  0.19176078 -1.88756891 -0.11967189  0.45711257  1.57789404 -0.41827022\n",
      " -0.7084936  -0.40175704  1.01540212  0.42875111 -0.4297602   0.61326743\n",
      "  0.19707755  1.06864499 -0.60205309 -0.22766215 -0.29210815 -1.36351495\n",
      "  0.39612028  0.36105527  0.10511346 -0.13458713]\n"
     ]
    }
   ],
   "source": [
    "np.random.seed(42)\n",
    "mean = 0.1\n",
    "stdev = 1.0\n",
    "data = stats.norm(mean, stdev).rvs(100)\n",
    "print(data)"
   ]
  },
  {
   "cell_type": "markdown",
   "metadata": {},
   "source": [
    "En la maypría de los casos de una a 3 dimensiones, utilizar métodos de visualización reduce la complejidad de la interpretación.\n",
    "Para un conjunto de datos unidimensional hay varias opciones, pero un gráfico de dispersión es siempre una buena opción por defecto porque\n",
    "\n",
    "  - Muestra todos los datos\n",
    "  - Es fácil de interpretar\n",
    "  - No pierde ninguna información"
   ]
  },
  {
   "cell_type": "code",
   "execution_count": 3,
   "metadata": {},
   "outputs": [],
   "source": [
    "def one_dim_scatterplot(data, ax, jitter=0.2, **options):\n",
    "    ## jitter? se utilizará para el Bootstrap\n",
    "    if jitter:\n",
    "        jitters = np.random.uniform(-jitter, jitter, size=data.shape)\n",
    "    else:\n",
    "        jitters = np.repeat(0.0, len(data))\n",
    "    ax.scatter(data, jitters, **options)\n",
    "    ax.yaxis.set_ticklabels([])\n",
    "    ax.set_ylim([-1, 1])\n",
    "    ax.tick_params(axis='both', which='major', labelsize=15)"
   ]
  },
  {
   "cell_type": "code",
   "execution_count": 4,
   "metadata": {},
   "outputs": [
    {
     "data": {
      "image/png": "[encoded data removed]",
      "text/plain": [
       "<Figure size 864x72 with 1 Axes>"
      ]
     },
     "metadata": {
      "needs_background": "light"
     },
     "output_type": "display_data"
    }
   ],
   "source": [
    "fig, ax = plt.subplots(1, figsize=(12, 1))\n",
    "one_dim_scatterplot(data, ax, s=15, jitter = 0.2)"
   ]
  },
  {
   "cell_type": "markdown",
   "metadata": {},
   "source": [
    "## Ejemplo\n",
    "\n",
    "A continuación, presentamos un par de estadísticas sencillas y comunes. Para ilustrarlo, hemos extraído 20 muestras de una distribución normal.\n",
    "\n",
    "\n",
    "La **media de una muestra** es una métrica calculada por medio de: $\\displaystyle\\frac{1}{n} \\sum_i X_i$"
   ]
  },
  {
   "cell_type": "code",
   "execution_count": 5,
   "metadata": {},
   "outputs": [
    {
     "data": {
      "image/png": "[encoded data removed]",
      "text/plain": [
       "<Figure size 864x216 with 6 Axes>"
      ]
     },
     "metadata": {
      "needs_background": "light"
     },
     "output_type": "display_data"
    }
   ],
   "source": [
    "np.random.seed(42)\n",
    "normal = stats.norm(0, 1)\n",
    "\n",
    "fig, axs = plt.subplots(3, 2, figsize=(12, 3), sharex=True)\n",
    "\n",
    "for ax in axs.flatten():\n",
    "    samp = normal.rvs(20)\n",
    "    ax.scatter(samp, np.repeat(0, 20))\n",
    "    \n",
    "    ## calcular la media y trazar en negro\n",
    "    mean = np.mean(samp)\n",
    "    ax.scatter([mean], 0, c=\"black\", s=80)\n",
    "    ax.tick_params(axis='both', which='major')\n",
    "    ax.get_yaxis().set_ticks([])\n",
    "plt.tight_layout()"
   ]
  },
  {
   "cell_type": "markdown",
   "metadata": {},
   "source": [
    "El valor **máximo** se define por: $\\max (X_1, X_2, \\ldots, X_n)$"
   ]
  },
  {
   "cell_type": "code",
   "execution_count": 6,
   "metadata": {},
   "outputs": [
    {
     "data": {
      "image/png": "[encoded data removed]",
      "text/plain": [
       "<Figure size 864x216 with 6 Axes>"
      ]
     },
     "metadata": {
      "needs_background": "light"
     },
     "output_type": "display_data"
    }
   ],
   "source": [
    "np.random.seed(42)\n",
    "normal = stats.norm(0, 1)\n",
    "\n",
    "fig, axs = plt.subplots(3, 2, figsize=(12, 3), sharex=True)\n",
    "\n",
    "for ax in axs.flatten():\n",
    "    samp = normal.rvs(20)\n",
    "    ax.scatter(samp, np.repeat(0, 20))\n",
    "    M = np.max(samp)\n",
    "    ax.scatter([M], 0, c=\"black\", s=80)\n",
    "    ax.tick_params(axis='both', which='major', labelsize=15)\n",
    "    ax.get_yaxis().set_ticks([])\n",
    "plt.tight_layout()"
   ]
  },
  {
   "cell_type": "markdown",
   "metadata": {},
   "source": [
    "## Muestreo"
   ]
  },
  {
   "cell_type": "markdown",
   "metadata": {},
   "source": [
    "### Cómo se **cuantifica** la **variación** de una muestra estadística?"
   ]
  },
  {
   "cell_type": "markdown",
   "metadata": {},
   "source": [
    "Para cuantificar la variación de una muetsra estadística, en realidad nos gustaría un proceso como éste:\n",
    "\n",
    "  - Extraer un cierto número de datos independientes e idénticamente distribuidos, $X$, es decir, una muestra, de la población.\n",
    "  - Calcula el estadístico utilizando la muestra que has extraído.\n",
    "  - Registra el valor de la estadística que acabas de calcular en una base de datos.\n",
    "  - Hazlo de nuevo, y de nuevo, y de nuevo...\n",
    "  \n",
    "Una vez completado este proceso, tenemos muchos ejemplos de nuestra estadística, cada uno calculado a partir de una muestra aleatoria diferente de nuestra variable.\n",
    "\n",
    "La distribución de *la estadística* que surge de este proceso se llama **distribución muestral de la estadística**."
   ]
  },
  {
   "cell_type": "markdown",
   "metadata": {},
   "source": [
    "### Ejemplo: Medias muestrales de una variable normal\n",
    "\n",
    "Recordemos las medias muestrales del ejemplo anterior:"
   ]
  },
  {
   "cell_type": "code",
   "execution_count": 7,
   "metadata": {},
   "outputs": [
    {
     "data": {
      "image/png": "[encoded data removed]",
      "text/plain": [
       "<Figure size 864x216 with 6 Axes>"
      ]
     },
     "metadata": {
      "needs_background": "light"
     },
     "output_type": "display_data"
    }
   ],
   "source": [
    "np.random.seed(42)\n",
    "normal = stats.norm(0, 1)\n",
    "\n",
    "fig, axs = plt.subplots(3, 2, figsize=(12, 3), sharex=True)\n",
    "\n",
    "means = []\n",
    "for ax in axs.flatten():\n",
    "    samp = normal.rvs(20)\n",
    "    ax.scatter(samp, np.repeat(0, 20))\n",
    "    mean = np.mean(samp)\n",
    "    means.append(mean)\n",
    "    ax.scatter([mean], 0, c=\"black\", s=50)\n",
    "    ax.tick_params(axis='both', which='major', labelsize=15)\n",
    "    ax.get_yaxis().set_ticks([])\n",
    "plt.tight_layout()"
   ]
  },
  {
   "cell_type": "markdown",
   "metadata": {},
   "source": [
    "La distribución de los *puntos negros* es la **distribución mustral de la media**."
   ]
  },
  {
   "cell_type": "code",
   "execution_count": 8,
   "metadata": {},
   "outputs": [],
   "source": [
    "means = []\n",
    "for i in range(10000):\n",
    "    samp = normal.rvs(20)\n",
    "    mean = np.mean(samp)\n",
    "    means.append(mean)"
   ]
  },
  {
   "cell_type": "code",
   "execution_count": 9,
   "metadata": {},
   "outputs": [
    {
     "data": {
      "image/png": "[encoded data removed]",
      "text/plain": [
       "<Figure size 432x288 with 1 Axes>"
      ]
     },
     "metadata": {
      "needs_background": "light"
     },
     "output_type": "display_data"
    }
   ],
   "source": [
    "plt.hist(means, bins = 100);"
   ]
  },
  {
   "cell_type": "markdown",
   "metadata": {},
   "source": [
    "  - ¿Cuál es el valor medio de la estadística?\n",
    "  - ¿Cuánto varía la estadística en torno a su valor medio?"
   ]
  },
  {
   "cell_type": "markdown",
   "metadata": {},
   "source": [
    "## Bootstrap"
   ]
  },
  {
   "cell_type": "markdown",
   "metadata": {},
   "source": [
    "El teorema del límite central es un resultado central en la estadística matemática, y no hay ningún otro resultado en las materias con el carácter definitivo del CLT.\n",
    "\n",
    "Por otro lado, tiene un gran inconveniente: sólo funciona para la media muestral"
   ]
  },
  {
   "cell_type": "markdown",
   "metadata": {},
   "source": [
    "### Muestreo Bootstrap"
   ]
  },
  {
   "cell_type": "markdown",
   "metadata": {},
   "source": [
    "Por lo general, tenemos un conjunto de datos fijo, que consideramos como una única muestra de la población.\n",
    "\n",
    "La población es el objeto que nos interesa, y la muestra es la lente a través de la cual la vemos.\n",
    "\n",
    "La idea detrás del bootstrap es que la distribución empírica de la muestra debe ser nuestra mejor aproximación a la distribución de la población de la que se extrae la muestra."
   ]
  },
  {
   "cell_type": "markdown",
   "metadata": {},
   "source": [
    "Esto significa que como no podemos tomar muestras repetidas de la población, nuestra siguiente opción es **tomar muestras de la propia muestra**."
   ]
  },
  {
   "cell_type": "markdown",
   "metadata": {},
   "source": [
    "### Bootstrap: The Big Idea"
   ]
  },
  {
   "cell_type": "markdown",
   "metadata": {},
   "source": [
    "Queremos hacer esto:\n",
    "\n",
    "> Estimar la varianza de un estadístico muestral tomando repetidamente muestras de la *población*, calculando las medias muestrales de estas muestras, y luego calculando la varianza de las múltiples medias muestrales.\n",
    "\n",
    "Pero **no podemos**, porque **sólo podemos muestrear de la población una vez**.\n",
    "\n",
    "En su lugar, tomamos muestras repetidamente de nuestra **mejor aproximación a la distribución de la población**, que viene dada por la **función de densidad empírica de la muestra**.\n",
    "\n",
    "Es decir, en su lugar hacemos\n",
    "\n",
    "> Estimar la varianza de las medias muestrales muestreando repetidamente de *una distribución que se aproxima a la distribución de la población*, calculando las medias muestrales de estas muestras, y luego calculando la varianza de las múltiples medias muestrales."
   ]
  },
  {
   "cell_type": "markdown",
   "metadata": {},
   "source": [
    "### Definición"
   ]
  },
  {
   "cell_type": "markdown",
   "metadata": {},
   "source": [
    "Un **muestreo bootstrap** de un conjunto de datos es una muestra tomada con reemplazo de ese conjunto de datos cuyo tamaño es el del propio conjunto de datos."
   ]
  },
  {
   "cell_type": "code",
   "execution_count": 10,
   "metadata": {},
   "outputs": [],
   "source": [
    "def text_in_blank_plot(text, ax):\n",
    "    '''make a text box'''\n",
    "    _ = ax.text(0.5, 0.5, text, \n",
    "                horizontalalignment='center',\n",
    "                verticalalignment='center',\n",
    "                fontsize=15)\n",
    "    ax.axis('off')"
   ]
  },
  {
   "cell_type": "code",
   "execution_count": 12,
   "metadata": {
    "code_folding": [
     12
    ]
   },
   "outputs": [
    {
     "data": {
      "image/png": "[encoded data removed]",
      "text/plain": [
       "<Figure size 1152x576 with 12 Axes>"
      ]
     },
     "metadata": {
      "needs_background": "light"
     },
     "output_type": "display_data"
    }
   ],
   "source": [
    "np.random.seed(42)\n",
    "fig = plt.subplots(1, 1, figsize=(16, 8))\n",
    "\n",
    "ax = plt.subplot2grid((6, 3), (0, 0), colspan=2) # Número de columnas para que el eje se extienda hacia abajo.\n",
    "ax.get_xaxis().set_ticks([])\n",
    "ax.set_xlim(-2.5, 3)\n",
    "one_dim_scatterplot(data, ax, s=15)\n",
    "\n",
    "ax = plt.subplot2grid((6, 3), (0, 2), colspan=1)\n",
    "text_in_blank_plot(\"Muestra original\", ax)\n",
    "\n",
    "## boostrapping 5 times\n",
    "for i in range(0, 5):\n",
    "    bootstrap = np.random.choice(data, size=len(data), replace=True)\n",
    "    # key line for bootstrapping\n",
    "    ax = plt.subplot2grid((6, 3), (i + 1, 0), colspan=2)\n",
    "    ax.get_xaxis().set_ticks([])\n",
    "    ax.set_xlim(-2.5, 3)\n",
    "    one_dim_scatterplot(bootstrap, ax, s=15, c=\"black\")\n",
    "    ax = plt.subplot2grid((6, 3), (i + 1, 2), colspan=1, sharex = ax)\n",
    "    text_in_blank_plot(\"Muestra Bootstrap {}\".format(i+1), ax)\n",
    "# plt.tight_layout()"
   ]
  },
  {
   "cell_type": "markdown",
   "metadata": {},
   "source": [
    "Cada muestra bootstrap tiene su propia mediana muestral"
   ]
  },
  {
   "cell_type": "code",
   "execution_count": 13,
   "metadata": {
    "code_folding": [
     12
    ]
   },
   "outputs": [
    {
     "data": {
      "image/png": "[encoded data removed]",
      "text/plain": [
       "<Figure size 1152x576 with 12 Axes>"
      ]
     },
     "metadata": {
      "needs_background": "light"
     },
     "output_type": "display_data"
    }
   ],
   "source": [
    "np.random.seed(42)\n",
    "fig = plt.figure(figsize=(16, 8))\n",
    "# colspan: Number of columns for the axis to span downwards.\n",
    "ax = plt.subplot2grid((6, 3), (0, 0), colspan=2) \n",
    "ax.get_xaxis().set_ticks([])\n",
    "ax.set_xlim(-2.5, 3)\n",
    "one_dim_scatterplot(data, ax, s=15)\n",
    "\n",
    "ax = plt.subplot2grid((6, 3), (0, 2), colspan=1)\n",
    "text_in_blank_plot(\"Muestra Original\", ax)\n",
    "\n",
    "## boostrapping 5 times\n",
    "for i in range(0, 5):\n",
    "    bootstrap_sample = np.random.choice(data, size=len(data), replace=True)\n",
    "    ax = plt.subplot2grid((6, 3), (i + 1, 0), colspan=2)\n",
    "    ax.get_xaxis().set_ticks([])\n",
    "    ax.set_xlim(-2.5, 3)\n",
    "    one_dim_scatterplot(bootstrap_sample, ax, c=\"black\", s=15)\n",
    "    sample_median = np.median(bootstrap_sample)\n",
    "    ax.scatter([sample_median], 0, c=\"red\", s=50)\n",
    "    # median\n",
    "    ax = plt.subplot2grid((6, 3), (i + 1, 2), colspan=1)\n",
    "    text_in_blank_plot(\"Muestreo Bootstrap {}\".format(i+1), ax)"
   ]
  },
  {
   "cell_type": "markdown",
   "metadata": {},
   "source": [
    "Las medianas muestrales tomadas a partir de muestras bootstrap repetidas son entonces una aproximación a la **distribución de las medianas muestrales**"
   ]
  },
  {
   "cell_type": "code",
   "execution_count": 15,
   "metadata": {},
   "outputs": [],
   "source": [
    "def bootstrap_sample_medians(data, n_bootstrap_samples=10**4):\n",
    "    bootstrap_sample_medians = []\n",
    "    for i in range(n_bootstrap_samples):\n",
    "        bootstrap_sample = np.random.choice(data, size=len(data), replace=True)\n",
    "        bootstrap_sample_medians.append(np.median(bootstrap_sample))\n",
    "    return bootstrap_sample_medians"
   ]
  },
  {
   "cell_type": "code",
   "execution_count": 16,
   "metadata": {},
   "outputs": [
    {
     "data": {
      "image/png": "[encoded data removed]",
      "text/plain": [
       "<Figure size 864x288 with 1 Axes>"
      ]
     },
     "metadata": {
      "needs_background": "light"
     },
     "output_type": "display_data"
    }
   ],
   "source": [
    "np.random.seed(321)\n",
    "bootstrap_medians = bootstrap_sample_medians(data)\n",
    "\n",
    "fig, ax = plt.subplots(1, figsize=(12, 4))\n",
    "ax.hist(data, bins=25, density=True, color=\"black\", alpha=0.4,\n",
    "        label=\"Muestra\")\n",
    "ax.hist(bootstrap_medians, bins=25, density=True, color=\"red\", alpha=0.75,\n",
    "        label=\"Medianas del Muestreo Bootstrap\")\n",
    "ax.legend()\n",
    "# ax.tick_params(axis='both', which='major', labelsize=15)\n",
    "_ = ax.set_title(\"Medianas del Muestreo Bootstrap (10000 muestreos)\", fontsize = 20)"
   ]
  },
  {
   "cell_type": "markdown",
   "metadata": {},
   "source": [
    "Ahora podemos utilizar la distribución bootstrap de la meadiana de la muestra para estimar estadísticas que, de otro modo, serían inalcanzables"
   ]
  },
  {
   "cell_type": "code",
   "execution_count": 17,
   "metadata": {},
   "outputs": [
    {
     "name": "stdout",
     "output_type": "stream",
     "text": [
      "Varianza de la muestra: 0.82\n",
      "Varianza de las medianas: 0.02\n"
     ]
    }
   ],
   "source": [
    "variance_of_sample = np.var(data)\n",
    "varaince_of_bootstrap_medians = np.var(bootstrap_medians)\n",
    "\n",
    "print(\"Varianza de la muestra: {:2.2f}\".format(variance_of_sample))\n",
    "print(\"Varianza de las medianas: {:2.2f}\".format(varaince_of_bootstrap_medians))"
   ]
  },
  {
   "cell_type": "markdown",
   "metadata": {},
   "source": [
    "## Intervalos de confianza"
   ]
  },
  {
   "cell_type": "markdown",
   "metadata": {},
   "source": [
    "Recordemos nuestra afirmación anterior\n",
    "\n",
    "> Nuestro interés general es la **población**, la **muestra** es sólo la lente a través de la cual la vemos.\n",
    "\n",
    "Hemos demostrado que **los estadísticos muestrales son generalmente buenas aproximaciones de las propiedades de la población**, y también hemos descubierto **métodos para aproximar la distribución de los estadísticos muestrales**, como el bootstrapping y el teorema del límite central.\n",
    "\n",
    "Todo ello nos permite abordar una última cuestión\n",
    "\n",
    "> ¿Qué tan buena es la aproximación de un parámetro de la población en un estadístico muestral?"
   ]
  },
  {
   "cell_type": "markdown",
   "metadata": {},
   "source": [
    "### Ejemplo: Muestreo Bootstrap para el Intervalo de Confianza del Percentil 75"
   ]
  },
  {
   "cell_type": "markdown",
   "metadata": {},
   "source": [
    "Los intervalos basados en percentiles se basan en:\n",
    "La distribución simulada se asemeja a la distribución muestral del estadístico, y su desviación estándar se aproxima al error estándar de dicha distribución."
   ]
  },
  {
   "cell_type": "markdown",
   "metadata": {},
   "source": [
    "Consideremos la estimación de un intervalo de confianza del percentil 75 de una población.  En este caso, el teorema del límite central no nos permite derivar una forma matemática de la distribución muestral, sino que podemos proceder utilizando el muestreo bootstrap.\n",
    "\n",
    "Este es el procedimiento bootstrap para calcular un intervalo de confianza para un percentil 75\n",
    "\n",
    "  - Extraiga muchas muestras bootstrap de su muestra principal, y para cada una de ellas\n",
    "    - Calcule la estadística de la muestra (utilizando la muestra bootstrap)\n",
    "  - Reúna todos los estadísticos muestrales de las distintas muestras bootstrap en una lista.\n",
    "  \n",
    "La lista resultante puede considerarse como una muestra de la distribución muestral de la estadística.\n",
    "\n",
    "  - Calcule el intervalo de confianza del 95% encontrando los percentiles 0,025 y 0,975 de la lista resultante de estadísticas muestrales."
   ]
  },
  {
   "cell_type": "code",
   "execution_count": 18,
   "metadata": {},
   "outputs": [],
   "source": [
    "np.random.seed(42)\n",
    "bootstrap_sample_75_percentiles = []\n",
    "for i in range(10000):\n",
    "    bootstrap = np.random.choice(data, size=len(data), replace=True)\n",
    "    bootstrap_75_percentile = np.percentile(bootstrap, 75)\n",
    "    bootstrap_sample_75_percentiles.append(bootstrap_75_percentile)"
   ]
  },
  {
   "cell_type": "markdown",
   "metadata": {},
   "source": [
    "Este código crea una aproximación a la distribución muestral de la estadística."
   ]
  },
  {
   "cell_type": "code",
   "execution_count": 20,
   "metadata": {},
   "outputs": [
    {
     "data": {
      "image/png": "[encoded data removed]",
      "text/plain": [
       "<Figure size 720x288 with 1 Axes>"
      ]
     },
     "metadata": {
      "needs_background": "light"
     },
     "output_type": "display_data"
    }
   ],
   "source": [
    "fig, ax = plt.subplots(1, figsize=(10, 4))\n",
    "ax.hist(bootstrap_sample_75_percentiles, bins=500, density=True, color=\"black\", alpha=0.5)\n",
    "ax.set_title(\"Muestreo Boostrap percentil 75\", fontsize=20);"
   ]
  },
  {
   "cell_type": "markdown",
   "metadata": {},
   "source": [
    "Obtenemos un intervalo de confianza calculando los percentiles 0,025 y 0,975 de la aproximación de la distribución muestral resultante"
   ]
  },
  {
   "cell_type": "code",
   "execution_count": 22,
   "metadata": {},
   "outputs": [
    {
     "name": "stdout",
     "output_type": "stream",
     "text": [
      "Muestra Percentil 75: 0.51\n",
      "Muestreo Bootstrap para Intervalo de Confianza del percentil 75: [0.40, 0.91]\n"
     ]
    }
   ],
   "source": [
    "left_endpoint = np.percentile(bootstrap_sample_75_percentiles, 2.5)\n",
    "right_endpoint = np.percentile(bootstrap_sample_75_percentiles, 97.5)\n",
    "\n",
    "print(\"Muestra Percentil 75: {:2.2f}\".format(np.percentile(data, 75)))\n",
    "print(\"Muestreo Bootstrap para Intervalo de Confianza del percentil 75: [{:2.2f}, {:2.2f}]\".format(\n",
    "    left_endpoint, right_endpoint))"
   ]
  },
  {
   "cell_type": "markdown",
   "metadata": {},
   "source": [
    "### Bootstrap: Resumen\n",
    "\n",
    "El Bootstrap es una herramienta para **cuantificar la variación de una estimación estadística**.  Puede utilizarse en casi **cualquier** situación.\n",
    "\n",
    "El bootstrap es un punto gigantesco a favor de la cantidad masiva de computación que todos tenemos a nuestra disposición en la actualidad.  Antes de la era informática, la práctica de la estadística era tediosa y matemática.  Ahora podemos estimar cosas que las generaciones anteriores **nunca habrían soñado** con sólo poner a trabajar algunos MB de memoria."
   ]
  }
 ],
 "metadata": {
  "jupytext": {
   "formats": "ipynb,py:light"
  },
  "kernelspec": {
   "display_name": "Python 3.9.12 ('base')",
   "language": "python",
   "name": "python3"
  },
  "language_info": {
   "codemirror_mode": {
    "name": "ipython",
    "version": 3
   },
   "file_extension": ".py",
   "mimetype": "text/x-python",
   "name": "python",
   "nbconvert_exporter": "python",
   "pygments_lexer": "ipython3",
   "version": "3.9.12"
  },
  "toc": {
   "base_numbering": 1,
   "nav_menu": {},
   "number_sections": true,
   "sideBar": true,
   "skip_h1_title": false,
   "title_cell": "Table of Contents",
   "title_sidebar": "Contents",
   "toc_cell": false,
   "toc_position": {},
   "toc_section_display": true,
   "toc_window_display": true
  },
  "vscode": {
   "interpreter": {
    "hash": "e8a7e19183888612c7a8c2abe5f70eae990e5dd0696774dc201bbac8d01724d2"
   }
  }
 },
 "nbformat": 4,
 "nbformat_minor": 4
}
