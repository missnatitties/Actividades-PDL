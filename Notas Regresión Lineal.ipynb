{
 "cells": [
  {
   "cell_type": "markdown",
   "metadata": {},
   "source": [
    "# Regresión Lineal"
   ]
  },
  {
   "cell_type": "markdown",
   "metadata": {},
   "source": [
    "### Objetivos\n",
    "\n",
    "Describir los aspectos esenciales de una tarea de predicción, y que el alumno comprenda:\n",
    "* ¿Por qué predecir?\n",
    "* ¿Cómo probar un modelo?\n",
    "* ¿Cómo ajustar un modelo lineal y evaluar su rendimiento con y sin `sklearn`?\n",
    "* ¿Cómo utilizar características múltiples, características categóricas y características de ingeniería?\n",
    "* ¿Cómo elegir el orden de regresión polinómica utilizando la validación cruzada?"
   ]
  },
  {
   "cell_type": "markdown",
   "metadata": {},
   "source": [
    "### Ahorro de combustible\n",
    "\n",
    "En el negocio: **Estimamos el ahorro de combustible de los autos.** \n",
    "La gente describe un auto , se calcula el consumo de combustible estimado y pagan por ello.\n",
    "\n",
    "Al entrar un cliente:\n",
    "* Cliente: \"Este es un campo muy competitivo. ¿Por qué deberíamos pagaros?\"\n",
    "* Dueño: \"Somos muy buenos en lo que hacemos\".\n",
    "* Cliente: \"Su competidor dice lo mismo. ¿Tiene pruebas?\"\n",
    "\n",
    "Es importante notar que:\n",
    "1. **Están compitiendo contra otros modelos.**\n",
    "2. **El modelo será evaluado cuantitativamente.**"
   ]
  },
  {
   "cell_type": "markdown",
   "metadata": {},
   "source": [
    "Continuando con la conversación: \n",
    "\n",
    "* Dueño: \"Hemos analizado todas las predicciones de nuestros competidores. Todas sus predicciones tienen algún error; la media de sus errores de predicción es de 5 mpg. Podemos hacerlo mejor\".\n",
    "* Cliente: \"Ah, interesante. Demuéstrelo\".\n",
    "* Dueño: \"Describe un coche\".\n",
    "* Cliente: \"Un Ford F250 híbrido de 2020\"\n",
    "* Dueño: \"No puedo predecirlo, ya que que **ese auto no está en nuestros registros**\"\n",
    "* Cliente: \"¿De qué sirve eso?\"\n",
    "* Dueño: \"Si pregunta por un auto antiguo, podemos predecirlo a la perfección\".\n",
    "* Cliente: \"Y... ¿por qué pagaría por eso?\"\n",
    "\n",
    "3. **El único rendimiento que importa es el rendimiento predictivo en casos nuevos.**"
   ]
  },
  {
   "cell_type": "code",
   "execution_count": 1,
   "metadata": {},
   "outputs": [],
   "source": [
    "import numpy as np\n",
    "import pandas as pd\n",
    "import scipy.stats as stats\n",
    "import matplotlib.pyplot as plt\n",
    "from sklearn.model_selection import train_test_split\n",
    "from sklearn.linear_model import LinearRegression\n",
    "from sklearn.metrics import mean_squared_error\n",
    "np.random.seed(0)\n",
    "%matplotlib inline"
   ]
  },
  {
   "cell_type": "markdown",
   "metadata": {},
   "source": [
    "## Modelo predictivo\n",
    "\n",
    "Queremos diseñar un modelo predictivo $\\hat{f}$ para el negocio de estimación de la economía de combustible. Comenzamos con un CSV que encontramos en Internet."
   ]
  },
  {
   "cell_type": "code",
   "execution_count": 2,
   "metadata": {},
   "outputs": [],
   "source": [
    "cars = pd.read_csv(\"data/cars.csv\", na_values=[\"?\"])"
   ]
  },
  {
   "cell_type": "code",
   "execution_count": 3,
   "metadata": {},
   "outputs": [],
   "source": [
    "cars = cars.dropna()"
   ]
  },
  {
   "cell_type": "code",
   "execution_count": 4,
   "metadata": {},
   "outputs": [
    {
     "data": {
      "text/html": [
       "<div>\n",
       "<style scoped>\n",
       "    .dataframe tbody tr th:only-of-type {\n",
       "        vertical-align: middle;\n",
       "    }\n",
       "\n",
       "    .dataframe tbody tr th {\n",
       "        vertical-align: top;\n",
       "    }\n",
       "\n",
       "    .dataframe thead th {\n",
       "        text-align: right;\n",
       "    }\n",
       "</style>\n",
       "<table border=\"1\" class=\"dataframe\">\n",
       "  <thead>\n",
       "    <tr style=\"text-align: right;\">\n",
       "      <th></th>\n",
       "      <th>mpg</th>\n",
       "      <th>cylinders</th>\n",
       "      <th>displacement</th>\n",
       "      <th>horsepower</th>\n",
       "      <th>weight</th>\n",
       "      <th>acceleration</th>\n",
       "      <th>model</th>\n",
       "      <th>origin</th>\n",
       "      <th>car_name</th>\n",
       "    </tr>\n",
       "  </thead>\n",
       "  <tbody>\n",
       "    <tr>\n",
       "      <th>0</th>\n",
       "      <td>18.0</td>\n",
       "      <td>8</td>\n",
       "      <td>307.0</td>\n",
       "      <td>130.0</td>\n",
       "      <td>3504.0</td>\n",
       "      <td>12.0</td>\n",
       "      <td>70</td>\n",
       "      <td>1</td>\n",
       "      <td>chevrolet chevelle malibu</td>\n",
       "    </tr>\n",
       "    <tr>\n",
       "      <th>1</th>\n",
       "      <td>15.0</td>\n",
       "      <td>8</td>\n",
       "      <td>350.0</td>\n",
       "      <td>165.0</td>\n",
       "      <td>3693.0</td>\n",
       "      <td>11.5</td>\n",
       "      <td>70</td>\n",
       "      <td>1</td>\n",
       "      <td>buick skylark 320</td>\n",
       "    </tr>\n",
       "    <tr>\n",
       "      <th>2</th>\n",
       "      <td>18.0</td>\n",
       "      <td>8</td>\n",
       "      <td>318.0</td>\n",
       "      <td>150.0</td>\n",
       "      <td>3436.0</td>\n",
       "      <td>11.0</td>\n",
       "      <td>70</td>\n",
       "      <td>1</td>\n",
       "      <td>plymouth satellite</td>\n",
       "    </tr>\n",
       "    <tr>\n",
       "      <th>3</th>\n",
       "      <td>16.0</td>\n",
       "      <td>8</td>\n",
       "      <td>304.0</td>\n",
       "      <td>150.0</td>\n",
       "      <td>3433.0</td>\n",
       "      <td>12.0</td>\n",
       "      <td>70</td>\n",
       "      <td>1</td>\n",
       "      <td>amc rebel sst</td>\n",
       "    </tr>\n",
       "    <tr>\n",
       "      <th>4</th>\n",
       "      <td>17.0</td>\n",
       "      <td>8</td>\n",
       "      <td>302.0</td>\n",
       "      <td>140.0</td>\n",
       "      <td>3449.0</td>\n",
       "      <td>10.5</td>\n",
       "      <td>70</td>\n",
       "      <td>1</td>\n",
       "      <td>ford torino</td>\n",
       "    </tr>\n",
       "  </tbody>\n",
       "</table>\n",
       "</div>"
      ],
      "text/plain": [
       "    mpg  cylinders  displacement  horsepower  weight  acceleration  model  \\\n",
       "0  18.0          8         307.0       130.0  3504.0          12.0     70   \n",
       "1  15.0          8         350.0       165.0  3693.0          11.5     70   \n",
       "2  18.0          8         318.0       150.0  3436.0          11.0     70   \n",
       "3  16.0          8         304.0       150.0  3433.0          12.0     70   \n",
       "4  17.0          8         302.0       140.0  3449.0          10.5     70   \n",
       "\n",
       "   origin                   car_name  \n",
       "0       1  chevrolet chevelle malibu  \n",
       "1       1          buick skylark 320  \n",
       "2       1         plymouth satellite  \n",
       "3       1              amc rebel sst  \n",
       "4       1                ford torino  "
      ]
     },
     "execution_count": 4,
     "metadata": {},
     "output_type": "execute_result"
    }
   ],
   "source": [
    "cars.head()"
   ]
  },
  {
   "cell_type": "markdown",
   "metadata": {},
   "source": [
    "Inicialmente **predecir la media de consumo en mpg**."
   ]
  },
  {
   "cell_type": "markdown",
   "metadata": {},
   "source": [
    "## Evaluación\n",
    "\n",
    "Para evaluar un modelo, el primer paso es crearlo con un porcentaje de los datos oculto para después analizar el modelo vs los datos ocultados al inicio."
   ]
  },
  {
   "cell_type": "code",
   "execution_count": 5,
   "metadata": {},
   "outputs": [
    {
     "name": "stdout",
     "output_type": "stream",
     "text": [
      "392 registros, ocultaremos 78\n"
     ]
    }
   ],
   "source": [
    "n = len(cars)\n",
    "n_holdout = int(n*0.2)\n",
    "print( f\"{n} registros, ocultaremos {n_holdout}\" )"
   ]
  },
  {
   "cell_type": "markdown",
   "metadata": {},
   "source": [
    "Aleatorizaremos los datos por medio de la instrución [.sample()](https://pandas.pydata.org/pandas-docs/stable/reference/api/pandas.DataFrame.sample.html)"
   ]
  },
  {
   "cell_type": "code",
   "execution_count": 6,
   "metadata": {},
   "outputs": [],
   "source": [
    "cars = cars.sample(len(cars))\n",
    "cars_test = cars.iloc[:n_holdout]\n",
    "cars_train = cars.iloc[n_holdout:]"
   ]
  },
  {
   "cell_type": "code",
   "execution_count": 7,
   "metadata": {},
   "outputs": [
    {
     "data": {
      "text/html": [
       "<div>\n",
       "<style scoped>\n",
       "    .dataframe tbody tr th:only-of-type {\n",
       "        vertical-align: middle;\n",
       "    }\n",
       "\n",
       "    .dataframe tbody tr th {\n",
       "        vertical-align: top;\n",
       "    }\n",
       "\n",
       "    .dataframe thead th {\n",
       "        text-align: right;\n",
       "    }\n",
       "</style>\n",
       "<table border=\"1\" class=\"dataframe\">\n",
       "  <thead>\n",
       "    <tr style=\"text-align: right;\">\n",
       "      <th></th>\n",
       "      <th>mpg</th>\n",
       "      <th>cylinders</th>\n",
       "      <th>displacement</th>\n",
       "      <th>horsepower</th>\n",
       "      <th>weight</th>\n",
       "      <th>acceleration</th>\n",
       "      <th>model</th>\n",
       "      <th>origin</th>\n",
       "      <th>car_name</th>\n",
       "    </tr>\n",
       "  </thead>\n",
       "  <tbody>\n",
       "    <tr>\n",
       "      <th>216</th>\n",
       "      <td>31.5</td>\n",
       "      <td>4</td>\n",
       "      <td>98.0</td>\n",
       "      <td>68.0</td>\n",
       "      <td>2045.0</td>\n",
       "      <td>18.5</td>\n",
       "      <td>77</td>\n",
       "      <td>3</td>\n",
       "      <td>honda accord cvcc</td>\n",
       "    </tr>\n",
       "    <tr>\n",
       "      <th>220</th>\n",
       "      <td>33.5</td>\n",
       "      <td>4</td>\n",
       "      <td>85.0</td>\n",
       "      <td>70.0</td>\n",
       "      <td>1945.0</td>\n",
       "      <td>16.8</td>\n",
       "      <td>77</td>\n",
       "      <td>3</td>\n",
       "      <td>datsun f-10 hatchback</td>\n",
       "    </tr>\n",
       "    <tr>\n",
       "      <th>256</th>\n",
       "      <td>20.5</td>\n",
       "      <td>6</td>\n",
       "      <td>225.0</td>\n",
       "      <td>100.0</td>\n",
       "      <td>3430.0</td>\n",
       "      <td>17.2</td>\n",
       "      <td>78</td>\n",
       "      <td>1</td>\n",
       "      <td>plymouth volare</td>\n",
       "    </tr>\n",
       "    <tr>\n",
       "      <th>301</th>\n",
       "      <td>34.2</td>\n",
       "      <td>4</td>\n",
       "      <td>105.0</td>\n",
       "      <td>70.0</td>\n",
       "      <td>2200.0</td>\n",
       "      <td>13.2</td>\n",
       "      <td>79</td>\n",
       "      <td>1</td>\n",
       "      <td>plymouth horizon</td>\n",
       "    </tr>\n",
       "    <tr>\n",
       "      <th>193</th>\n",
       "      <td>24.0</td>\n",
       "      <td>6</td>\n",
       "      <td>200.0</td>\n",
       "      <td>81.0</td>\n",
       "      <td>3012.0</td>\n",
       "      <td>17.6</td>\n",
       "      <td>76</td>\n",
       "      <td>1</td>\n",
       "      <td>ford maverick</td>\n",
       "    </tr>\n",
       "  </tbody>\n",
       "</table>\n",
       "</div>"
      ],
      "text/plain": [
       "      mpg  cylinders  displacement  horsepower  weight  acceleration  model  \\\n",
       "216  31.5          4          98.0        68.0  2045.0          18.5     77   \n",
       "220  33.5          4          85.0        70.0  1945.0          16.8     77   \n",
       "256  20.5          6         225.0       100.0  3430.0          17.2     78   \n",
       "301  34.2          4         105.0        70.0  2200.0          13.2     79   \n",
       "193  24.0          6         200.0        81.0  3012.0          17.6     76   \n",
       "\n",
       "     origin               car_name  \n",
       "216       3      honda accord cvcc  \n",
       "220       3  datsun f-10 hatchback  \n",
       "256       1        plymouth volare  \n",
       "301       1       plymouth horizon  \n",
       "193       1          ford maverick  "
      ]
     },
     "execution_count": 7,
     "metadata": {},
     "output_type": "execute_result"
    }
   ],
   "source": [
    "cars_train.head()"
   ]
  },
  {
   "cell_type": "markdown",
   "metadata": {},
   "source": [
    "Para crear el modelo, calcularemos la media de $MPG$"
   ]
  },
  {
   "cell_type": "code",
   "execution_count": 8,
   "metadata": {},
   "outputs": [],
   "source": [
    "mean_mpg = cars_train.mpg.mean()"
   ]
  },
  {
   "cell_type": "code",
   "execution_count": 9,
   "metadata": {},
   "outputs": [
    {
     "data": {
      "text/plain": [
       "23.507961783439494"
      ]
     },
     "execution_count": 9,
     "metadata": {},
     "output_type": "execute_result"
    }
   ],
   "source": [
    "mean_mpg"
   ]
  },
  {
   "cell_type": "code",
   "execution_count": 10,
   "metadata": {},
   "outputs": [],
   "source": [
    "fhat = lambda X: np.ones(len(X))*mean_mpg  # Modelo"
   ]
  },
  {
   "cell_type": "code",
   "execution_count": 11,
   "metadata": {},
   "outputs": [],
   "source": [
    "yhat = fhat(cars_test) # Predecir la media para cada auto"
   ]
  },
  {
   "cell_type": "code",
   "execution_count": 12,
   "metadata": {},
   "outputs": [
    {
     "data": {
      "text/plain": [
       "array([23.50796178, 23.50796178, 23.50796178, 23.50796178, 23.50796178,\n",
       "       23.50796178, 23.50796178, 23.50796178, 23.50796178, 23.50796178,\n",
       "       23.50796178, 23.50796178, 23.50796178, 23.50796178, 23.50796178,\n",
       "       23.50796178, 23.50796178, 23.50796178, 23.50796178, 23.50796178,\n",
       "       23.50796178, 23.50796178, 23.50796178, 23.50796178, 23.50796178,\n",
       "       23.50796178, 23.50796178, 23.50796178, 23.50796178, 23.50796178,\n",
       "       23.50796178, 23.50796178, 23.50796178, 23.50796178, 23.50796178,\n",
       "       23.50796178, 23.50796178, 23.50796178, 23.50796178, 23.50796178,\n",
       "       23.50796178, 23.50796178, 23.50796178, 23.50796178, 23.50796178,\n",
       "       23.50796178, 23.50796178, 23.50796178, 23.50796178, 23.50796178,\n",
       "       23.50796178, 23.50796178, 23.50796178, 23.50796178, 23.50796178,\n",
       "       23.50796178, 23.50796178, 23.50796178, 23.50796178, 23.50796178,\n",
       "       23.50796178, 23.50796178, 23.50796178, 23.50796178, 23.50796178,\n",
       "       23.50796178, 23.50796178, 23.50796178, 23.50796178, 23.50796178,\n",
       "       23.50796178, 23.50796178, 23.50796178, 23.50796178, 23.50796178,\n",
       "       23.50796178, 23.50796178, 23.50796178])"
      ]
     },
     "execution_count": 12,
     "metadata": {},
     "output_type": "execute_result"
    }
   ],
   "source": [
    "yhat"
   ]
  },
  {
   "cell_type": "markdown",
   "metadata": {},
   "source": [
    "Encontremos el MSE:"
   ]
  },
  {
   "cell_type": "code",
   "execution_count": 13,
   "metadata": {},
   "outputs": [
    {
     "data": {
      "text/plain": [
       "62.17656837121391"
      ]
     },
     "execution_count": 13,
     "metadata": {},
     "output_type": "execute_result"
    }
   ],
   "source": [
    "mse = ((cars_test.mpg - yhat)**2).mean()\n",
    "mse"
   ]
  },
  {
   "cell_type": "markdown",
   "metadata": {},
   "source": [
    "Es una estimación muy general pero satisface dos requisitos importantes:\n",
    "\n",
    "* Es una métrica de error cuantitativa y comparable,\n",
    "* Ha sido calculada sobre datos nuevos.\n",
    "\n",
    "Los modelos sencillos como éste se denominan **modelo base**; son muy útiles para establecer un límite inferior en el rendimiento de modelos más complejos."
   ]
  },
  {
   "cell_type": "markdown",
   "metadata": {},
   "source": [
    "Aunque el MSE es matemáticamente elegante, puede ser difícil de interpretar. También es habitual fijarse en la raíz cuadrada del MSE (RMSE), que tiene las mismas unidades que la variable objetivo."
   ]
  },
  {
   "cell_type": "code",
   "execution_count": 14,
   "metadata": {},
   "outputs": [
    {
     "data": {
      "text/plain": [
       "7.885212005470361"
      ]
     },
     "execution_count": 14,
     "metadata": {},
     "output_type": "execute_result"
    }
   ],
   "source": [
    "mse**0.5"
   ]
  },
  {
   "cell_type": "markdown",
   "metadata": {},
   "source": [
    "Este número puede interpretarse como la distancia que el modelo tiene de la media.  Así que en promedio (aproximadamente, 1 desviación estándar o menos lejos), nuestra estimación de 24 mpg está fuera de la mpg real en nuestros datos de prueba por 8 mpg."
   ]
  },
  {
   "cell_type": "markdown",
   "metadata": {},
   "source": [
    "## El Álgebra de la regresión lineal\n",
    "\n",
    "\n",
    "Las mpg (y) pueden modelarse como una función del peso del vehículo (X) por medio de la ecuación linal:\n",
    "\n",
    "$$\\hat{y_i} = mx_i + b$$\n",
    "\n",
    "Que puede expresarse como:\n",
    "\n",
    "$$\\hat{y} = X\\beta$$\n",
    "\n",
    "Donde:\n",
    "* $\\hat{y_i}$ es el i-ésimo $\\hat{y}$\n",
    "* $x_i$ es la i-ésima fila de $X$\n",
    "* $\\beta$ es $(m,b)$"
   ]
  },
  {
   "cell_type": "code",
   "execution_count": 15,
   "metadata": {},
   "outputs": [],
   "source": [
    "X = np.stack( [cars_train.weight.values, np.ones_like( cars_train.weight )] ).T\n",
    "y = cars_train.mpg.values"
   ]
  },
  {
   "cell_type": "code",
   "execution_count": 16,
   "metadata": {},
   "outputs": [
    {
     "data": {
      "text/plain": [
       "array([[2.045e+03, 1.000e+00],\n",
       "       [1.945e+03, 1.000e+00],\n",
       "       [3.430e+03, 1.000e+00],\n",
       "       [2.200e+03, 1.000e+00],\n",
       "       [3.012e+03, 1.000e+00]])"
      ]
     },
     "execution_count": 16,
     "metadata": {},
     "output_type": "execute_result"
    }
   ],
   "source": [
    "X[:5]"
   ]
  },
  {
   "cell_type": "code",
   "execution_count": 17,
   "metadata": {},
   "outputs": [
    {
     "data": {
      "text/plain": [
       "array([31.5, 33.5, 20.5, 34.2, 24. ])"
      ]
     },
     "execution_count": 17,
     "metadata": {},
     "output_type": "execute_result"
    }
   ],
   "source": [
    "y[:5]"
   ]
  },
  {
   "cell_type": "code",
   "execution_count": 18,
   "metadata": {},
   "outputs": [
    {
     "data": {
      "text/plain": [
       "array([-7.72555665e-03,  4.64474768e+01])"
      ]
     },
     "execution_count": 18,
     "metadata": {},
     "output_type": "execute_result"
    }
   ],
   "source": [
    "beta = np.linalg.inv(X.T @ X) @ X.T @ y\n",
    "beta"
   ]
  },
  {
   "cell_type": "code",
   "execution_count": 19,
   "metadata": {},
   "outputs": [],
   "source": [
    "m, b = beta  #pendiente, intercección\n",
    "fhat = lambda X: m*X + b"
   ]
  },
  {
   "cell_type": "code",
   "execution_count": 20,
   "metadata": {},
   "outputs": [
    {
     "data": {
      "image/png": "[encoded data removed]",
      "text/plain": [
       "<Figure size 648x504 with 1 Axes>"
      ]
     },
     "metadata": {
      "needs_background": "light"
     },
     "output_type": "display_data"
    }
   ],
   "source": [
    "fig, ax = plt.subplots(figsize=(9,7))\n",
    "ax.scatter( cars_test.weight, cars_test.mpg, label=\"Data\" )\n",
    "ax.set_xlabel(\"Peso (lbs)\")\n",
    "ax.set_ylabel(\"Consumo (mpg)\")\n",
    "ax.set_title(\"Conjunto de prueba, modelo base vs nuevo modelo\")\n",
    "\n",
    "weights = np.linspace(1500,5000)\n",
    "ax.plot( weights, fhat(weights), c=\"red\", label=\"Nuevo modelo\" )\n",
    "ax.hlines(mean_mpg, 1500, 5000, color='green', label=\"Modelo base\")\n",
    "\n",
    "ax.legend()\n",
    "\n",
    "for x_i, y_i in zip(cars_test.weight,cars_test.mpg):\n",
    "    plt.plot([x_i, x_i], [y_i, m*x_i+b], color='gray', linestyle='dashed')"
   ]
  },
  {
   "cell_type": "code",
   "execution_count": 21,
   "metadata": {},
   "outputs": [
    {
     "name": "stdout",
     "output_type": "stream",
     "text": [
      "20.233704522903235\n",
      "4.498189027031127\n"
     ]
    }
   ],
   "source": [
    "yhat = fhat(cars_test.weight)\n",
    "mse = ((cars_test.mpg - yhat)**2).mean()\n",
    "print(mse)\n",
    "rmse = np.sqrt(mse)\n",
    "print(rmse)"
   ]
  },
  {
   "cell_type": "markdown",
   "metadata": {},
   "source": [
    "Ahora el MSE ha disminuido a la mitad vs el modelo base"
   ]
  },
  {
   "cell_type": "markdown",
   "metadata": {},
   "source": [
    "## Regresión lineal con múltiples predictores\n",
    "\n",
    "A partir de la ecuación:\n",
    "\n",
    "$$\\hat{y} = X\\beta$$\n",
    "\n",
    "Es posible generalizar $X$ como una matriz de $n$ por $p+1$, en donde cada fila $i$ corresponda a una muestra, y cada columna $j$ corresponda a una característica. De esta manera $\\beta$ se convierte en un vector con longitud $ p+1$.\n",
    "\n",
    "Por lo tanto, la ecuación anterior se convierte en:\n",
    "\n",
    "$$ \\hat{y_i} = \\beta_0 \\cdot 1 + \\beta_1x_{i,1} + \\beta_2x_{i,2} + ... + \\beta_px_{i,p} $$\n",
    "\n",
    "Por ejemplo, \n",
    "* La columna 0 sería igual a 1s, \n",
    "* La columna 1 de X pertenece al peso del auto, \n",
    "* La columna 2 de X pertenece a los cc del motor.\n",
    "\n",
    "Para este ejemplo las $\\beta$ son:\n",
    "* $\\beta_0$ consumo \"base\" en mpg\n",
    "* $\\beta_1$ es el consumo extra por cada lb de peso\n",
    "* $\\beta_2$ es el consumo extra por cada cc del motor"
   ]
  },
  {
   "cell_type": "code",
   "execution_count": 22,
   "metadata": {},
   "outputs": [],
   "source": [
    "X = np.stack( [np.ones_like( cars_train.weight ),\n",
    "               cars_train.weight.values, \n",
    "               cars_train.displacement.values] ).T\n",
    "y = cars_train.mpg.values"
   ]
  },
  {
   "cell_type": "code",
   "execution_count": 23,
   "metadata": {},
   "outputs": [],
   "source": [
    "X_test = np.stack( [np.ones_like( cars_test.weight ),\n",
    "               cars_test.weight.values, \n",
    "               cars_test.displacement.values] ).T\n",
    "y_test = cars_test.mpg.values"
   ]
  },
  {
   "cell_type": "code",
   "execution_count": 24,
   "metadata": {},
   "outputs": [
    {
     "data": {
      "text/plain": [
       "array([[1.000e+00, 2.045e+03, 9.800e+01],\n",
       "       [1.000e+00, 1.945e+03, 8.500e+01],\n",
       "       [1.000e+00, 3.430e+03, 2.250e+02],\n",
       "       [1.000e+00, 2.200e+03, 1.050e+02],\n",
       "       [1.000e+00, 3.012e+03, 2.000e+02],\n",
       "       [1.000e+00, 2.278e+03, 1.130e+02],\n",
       "       [1.000e+00, 4.425e+03, 4.550e+02],\n",
       "       [1.000e+00, 3.420e+03, 2.600e+02],\n",
       "       [1.000e+00, 2.545e+03, 1.190e+02],\n",
       "       [1.000e+00, 2.615e+03, 1.190e+02]])"
      ]
     },
     "execution_count": 24,
     "metadata": {},
     "output_type": "execute_result"
    }
   ],
   "source": [
    "X[:10]"
   ]
  },
  {
   "cell_type": "code",
   "execution_count": 25,
   "metadata": {},
   "outputs": [
    {
     "data": {
      "text/plain": [
       "array([ 4.45024213e+01, -6.20848786e-03, -1.32975132e-02])"
      ]
     },
     "execution_count": 25,
     "metadata": {},
     "output_type": "execute_result"
    }
   ],
   "source": [
    "# Operación con matrices para encontrar X1, X2 y X3\n",
    "beta = np.linalg.inv(X.T @ X) @ X.T @ y  \n",
    "beta"
   ]
  },
  {
   "cell_type": "code",
   "execution_count": 26,
   "metadata": {},
   "outputs": [
    {
     "name": "stdout",
     "output_type": "stream",
     "text": [
      "19.394298320210215\n",
      "4.403895811688807\n"
     ]
    }
   ],
   "source": [
    "# Producto punto de X_text y Beta para obtener el mse\n",
    "mse = ((X_test @ beta - y_test)**2).mean()\n",
    "rmse = np.sqrt(mse)\n",
    "print(mse)\n",
    "print(rmse)"
   ]
  },
  {
   "cell_type": "markdown",
   "metadata": {},
   "source": [
    "Como conclusión, agregar los cc del motor al modelo predictivo disminuye el mse y también el rmse."
   ]
  },
  {
   "cell_type": "markdown",
   "metadata": {},
   "source": [
    "## Regresión lineal con predictores categóricos\n",
    "\n",
    "La variable `origin` corresponde al _continente_ de origen de cada vehículo en el dataset, para agregarla al modelo verifiquemos qué contiene."
   ]
  },
  {
   "cell_type": "code",
   "execution_count": 27,
   "metadata": {},
   "outputs": [
    {
     "data": {
      "text/plain": [
       "1    245\n",
       "3     79\n",
       "2     68\n",
       "Name: origin, dtype: int64"
      ]
     },
     "execution_count": 27,
     "metadata": {},
     "output_type": "execute_result"
    }
   ],
   "source": [
    "cars.origin.value_counts()"
   ]
  },
  {
   "cell_type": "markdown",
   "metadata": {},
   "source": [
    "Parece una variable numérica pero no lo es, los códigos corresponden a Estados Unidos, Europa y Asia en orden ascendente. ¿Cómo se podría utilizar la regresión lineal con una característica que _no es un número_?\n",
    "\n",
    "Una estrategia consiste en crear \"variables ficticias\" (o dummies) numéricas que codifiquen la presencia de una característica categórica con un $1$ o un $0$."
   ]
  },
  {
   "cell_type": "code",
   "execution_count": 28,
   "metadata": {},
   "outputs": [],
   "source": [
    "cars[\"american\"] = cars.origin.map( lambda x: 1.0 if x==1 else 0.0 )\n",
    "cars[\"european\"] = cars.origin.map( lambda x: 1.0 if x==2 else 0.0 )\n",
    "cars[\"asian\"] = cars.origin.map( lambda x: 1.0 if x==3 else 0.0 )"
   ]
  },
  {
   "cell_type": "code",
   "execution_count": 29,
   "metadata": {},
   "outputs": [
    {
     "data": {
      "text/html": [
       "<div>\n",
       "<style scoped>\n",
       "    .dataframe tbody tr th:only-of-type {\n",
       "        vertical-align: middle;\n",
       "    }\n",
       "\n",
       "    .dataframe tbody tr th {\n",
       "        vertical-align: top;\n",
       "    }\n",
       "\n",
       "    .dataframe thead th {\n",
       "        text-align: right;\n",
       "    }\n",
       "</style>\n",
       "<table border=\"1\" class=\"dataframe\">\n",
       "  <thead>\n",
       "    <tr style=\"text-align: right;\">\n",
       "      <th></th>\n",
       "      <th>mpg</th>\n",
       "      <th>cylinders</th>\n",
       "      <th>displacement</th>\n",
       "      <th>horsepower</th>\n",
       "      <th>weight</th>\n",
       "      <th>acceleration</th>\n",
       "      <th>model</th>\n",
       "      <th>origin</th>\n",
       "      <th>car_name</th>\n",
       "      <th>american</th>\n",
       "      <th>european</th>\n",
       "      <th>asian</th>\n",
       "    </tr>\n",
       "  </thead>\n",
       "  <tbody>\n",
       "    <tr>\n",
       "      <th>146</th>\n",
       "      <td>28.0</td>\n",
       "      <td>4</td>\n",
       "      <td>90.0</td>\n",
       "      <td>75.0</td>\n",
       "      <td>2125.0</td>\n",
       "      <td>14.5</td>\n",
       "      <td>74</td>\n",
       "      <td>1</td>\n",
       "      <td>dodge colt</td>\n",
       "      <td>1.0</td>\n",
       "      <td>0.0</td>\n",
       "      <td>0.0</td>\n",
       "    </tr>\n",
       "    <tr>\n",
       "      <th>282</th>\n",
       "      <td>22.3</td>\n",
       "      <td>4</td>\n",
       "      <td>140.0</td>\n",
       "      <td>88.0</td>\n",
       "      <td>2890.0</td>\n",
       "      <td>17.3</td>\n",
       "      <td>79</td>\n",
       "      <td>1</td>\n",
       "      <td>ford fairmont 4</td>\n",
       "      <td>1.0</td>\n",
       "      <td>0.0</td>\n",
       "      <td>0.0</td>\n",
       "    </tr>\n",
       "    <tr>\n",
       "      <th>69</th>\n",
       "      <td>12.0</td>\n",
       "      <td>8</td>\n",
       "      <td>350.0</td>\n",
       "      <td>160.0</td>\n",
       "      <td>4456.0</td>\n",
       "      <td>13.5</td>\n",
       "      <td>72</td>\n",
       "      <td>1</td>\n",
       "      <td>oldsmobile delta 88 royale</td>\n",
       "      <td>1.0</td>\n",
       "      <td>0.0</td>\n",
       "      <td>0.0</td>\n",
       "    </tr>\n",
       "    <tr>\n",
       "      <th>378</th>\n",
       "      <td>38.0</td>\n",
       "      <td>4</td>\n",
       "      <td>105.0</td>\n",
       "      <td>63.0</td>\n",
       "      <td>2125.0</td>\n",
       "      <td>14.7</td>\n",
       "      <td>82</td>\n",
       "      <td>1</td>\n",
       "      <td>plymouth horizon miser</td>\n",
       "      <td>1.0</td>\n",
       "      <td>0.0</td>\n",
       "      <td>0.0</td>\n",
       "    </tr>\n",
       "    <tr>\n",
       "      <th>331</th>\n",
       "      <td>33.8</td>\n",
       "      <td>4</td>\n",
       "      <td>97.0</td>\n",
       "      <td>67.0</td>\n",
       "      <td>2145.0</td>\n",
       "      <td>18.0</td>\n",
       "      <td>80</td>\n",
       "      <td>3</td>\n",
       "      <td>subaru dl</td>\n",
       "      <td>0.0</td>\n",
       "      <td>0.0</td>\n",
       "      <td>1.0</td>\n",
       "    </tr>\n",
       "  </tbody>\n",
       "</table>\n",
       "</div>"
      ],
      "text/plain": [
       "      mpg  cylinders  displacement  horsepower  weight  acceleration  model  \\\n",
       "146  28.0          4          90.0        75.0  2125.0          14.5     74   \n",
       "282  22.3          4         140.0        88.0  2890.0          17.3     79   \n",
       "69   12.0          8         350.0       160.0  4456.0          13.5     72   \n",
       "378  38.0          4         105.0        63.0  2125.0          14.7     82   \n",
       "331  33.8          4          97.0        67.0  2145.0          18.0     80   \n",
       "\n",
       "     origin                    car_name  american  european  asian  \n",
       "146       1                  dodge colt       1.0       0.0    0.0  \n",
       "282       1             ford fairmont 4       1.0       0.0    0.0  \n",
       "69        1  oldsmobile delta 88 royale       1.0       0.0    0.0  \n",
       "378       1      plymouth horizon miser       1.0       0.0    0.0  \n",
       "331       3                   subaru dl       0.0       0.0    1.0  "
      ]
     },
     "execution_count": 29,
     "metadata": {},
     "output_type": "execute_result"
    }
   ],
   "source": [
    "cars.head()"
   ]
  },
  {
   "cell_type": "markdown",
   "metadata": {},
   "source": [
    "Ahora es posible analizar si existe una relación lineal entre la variable ficticia y la variable objetivo. \n",
    "Por ejemplo, en la siguiente imagen se observa que a medida que la propiedad \"Americano\" de un coche se eleva a 1, la economía de combustible es menor:"
   ]
  },
  {
   "cell_type": "code",
   "execution_count": 30,
   "metadata": {},
   "outputs": [
    {
     "data": {
      "image/png": "[encoded data removed]",
      "text/plain": [
       "<Figure size 432x288 with 1 Axes>"
      ]
     },
     "metadata": {
      "needs_background": "light"
     },
     "output_type": "display_data"
    }
   ],
   "source": [
    "plt.scatter( cars.american, cars.mpg )\n",
    "plt.xlabel( \"Americano\" )\n",
    "plt.ylabel( \"Consumo (mpg)\");"
   ]
  },
  {
   "cell_type": "code",
   "execution_count": 32,
   "metadata": {},
   "outputs": [
    {
     "name": "stdout",
     "output_type": "stream",
     "text": [
      "18.823633678253355\n",
      "4.338621172475578\n"
     ]
    }
   ],
   "source": [
    "# Al agregar esta variable categórica al modelo\n",
    "cars_test = cars.iloc[:n_holdout]\n",
    "cars_train = cars.iloc[n_holdout:]\n",
    "\n",
    "X = np.stack( [np.ones_like( cars_train.weight ),\n",
    "               cars_train.weight.values, \n",
    "               cars_train.displacement.values,\n",
    "               cars_train.american.values] ).T\n",
    "y = cars_train.mpg.values\n",
    "\n",
    "beta = np.linalg.inv(X.T @ X) @ X.T @ y\n",
    "\n",
    "X_test = np.stack( [np.ones_like( cars_test.weight ),\n",
    "               cars_test.weight.values, \n",
    "               cars_test.displacement.values,\n",
    "               cars_test.american.values] ).T\n",
    "y_test = cars_test.mpg.values\n",
    "\n",
    "mse = ((X_test @ beta - y_test)**2).mean()\n",
    "print(mse)\n",
    "rmse = np.sqrt(mse)\n",
    "print(rmse)"
   ]
  },
  {
   "cell_type": "markdown",
   "metadata": {},
   "source": [
    "Nuevamente se obtuvo una reducción del mse y del rmse."
   ]
  },
  {
   "cell_type": "markdown",
   "metadata": {},
   "source": [
    "# Funciones no lineales"
   ]
  },
  {
   "cell_type": "code",
   "execution_count": 33,
   "metadata": {},
   "outputs": [],
   "source": [
    "# Construyamos un dataset basado en un polinomio de segundo grado"
   ]
  },
  {
   "cell_type": "code",
   "execution_count": 34,
   "metadata": {},
   "outputs": [],
   "source": [
    "x1 = stats.norm(15,5).rvs(100)\n",
    "offset = stats.norm(3, 1).rvs(100)\n",
    "y1 = (10 * (x1 ** 2)) + offset"
   ]
  },
  {
   "cell_type": "code",
   "execution_count": 35,
   "metadata": {},
   "outputs": [
    {
     "data": {
      "image/png": "[encoded data removed]",
      "text/plain": [
       "<Figure size 432x288 with 1 Axes>"
      ]
     },
     "metadata": {
      "needs_background": "light"
     },
     "output_type": "display_data"
    }
   ],
   "source": [
    "plt.scatter(x1, y1);"
   ]
  },
  {
   "cell_type": "code",
   "execution_count": 38,
   "metadata": {},
   "outputs": [
    {
     "data": {
      "text/plain": [
       "array([[16.80947943],\n",
       "       [17.33783803],\n",
       "       [ 7.4098565 ],\n",
       "       [ 5.53477587],\n",
       "       [11.07456734],\n",
       "       [ 6.97352967],\n",
       "       [22.15920114],\n",
       "       [ 5.28904938],\n",
       "       [20.69976697],\n",
       "       [11.91417033]])"
      ]
     },
     "execution_count": 38,
     "metadata": {},
     "output_type": "execute_result"
    }
   ],
   "source": [
    "# Es necesario un reshape para que funcione\n",
    "x1.reshape(100,1)[:10]"
   ]
  },
  {
   "cell_type": "code",
   "execution_count": 36,
   "metadata": {},
   "outputs": [
    {
     "data": {
      "text/plain": [
       "LinearRegression()"
      ]
     },
     "execution_count": 36,
     "metadata": {},
     "output_type": "execute_result"
    }
   ],
   "source": [
    "lr = LinearRegression().fit(x1.reshape(-1,1), y1); lr"
   ]
  },
  {
   "cell_type": "code",
   "execution_count": 37,
   "metadata": {},
   "outputs": [
    {
     "data": {
      "text/plain": [
       "(array([258.38756162]), -1357.8138631302645)"
      ]
     },
     "execution_count": 37,
     "metadata": {},
     "output_type": "execute_result"
    }
   ],
   "source": [
    "lr.coef_, lr.intercept_"
   ]
  },
  {
   "cell_type": "markdown",
   "metadata": {},
   "source": [
    "Estos valores Beta son demasiado elevados si regesamos a observar el gráfico inicial."
   ]
  },
  {
   "cell_type": "code",
   "execution_count": 38,
   "metadata": {},
   "outputs": [
    {
     "data": {
      "image/png": "[encoded data removed]",
      "text/plain": [
       "<Figure size 432x288 with 1 Axes>"
      ]
     },
     "metadata": {
      "needs_background": "light"
     },
     "output_type": "display_data"
    }
   ],
   "source": [
    "# Al elevar x1 al cuadrado y graficar vs y la relación se vuelve lineal\n",
    "plt.scatter(x1**2, y1);"
   ]
  },
  {
   "cell_type": "code",
   "execution_count": 41,
   "metadata": {},
   "outputs": [
    {
     "data": {
      "text/plain": [
       "(array([10.0000482]), 3.1022724750068846)"
      ]
     },
     "execution_count": 41,
     "metadata": {},
     "output_type": "execute_result"
    }
   ],
   "source": [
    "lr = LinearRegression().fit(x1.reshape(-1,1) ** 2, y1); lr.coef_, lr.intercept_"
   ]
  },
  {
   "cell_type": "markdown",
   "metadata": {},
   "source": [
    "Recalculando los valores Beta de $x^2$ vs $y$ obtenemos Beta y la intersección reales "
   ]
  },
  {
   "cell_type": "markdown",
   "metadata": {},
   "source": [
    "## Curvas a partir de líneas rectas\n",
    "\n",
    "La relación entre el peso y el consumo de combustible _no es una línea recta_. Al analizarlo, el consumo de combustible en mpg de un auto nunca puede ser negativo, solamente puede llegar hasta cero"
   ]
  },
  {
   "cell_type": "code",
   "execution_count": 42,
   "metadata": {},
   "outputs": [
    {
     "data": {
      "text/plain": [
       "Text(0.5, 1.0, 'Peso vs. Consumo')"
      ]
     },
     "execution_count": 42,
     "metadata": {},
     "output_type": "execute_result"
    },
    {
     "data": {
      "image/png": "[encoded data removed]",
      "text/plain": [
       "<Figure size 648x504 with 1 Axes>"
      ]
     },
     "metadata": {
      "needs_background": "light"
     },
     "output_type": "display_data"
    }
   ],
   "source": [
    "fig, ax = plt.subplots(figsize=(9,7))\n",
    "ax.scatter( cars.weight, cars.mpg )\n",
    "ax.set_xlabel(\"Peso (lbs)\")\n",
    "ax.set_ylabel(\"Consumo (mpg)\")\n",
    "ax.set_title(\"Peso vs. Consumo\")"
   ]
  },
  {
   "cell_type": "markdown",
   "metadata": {},
   "source": [
    "Una solución es realizar una regresión lineal sobre las característas. Un modelo potencial:\n",
    "\n",
    "$$y = \\beta_0 + \\frac{\\beta_1}{x_{weight}}$$\n",
    "\n",
    "puede parecer no lineal, pero es una función lineal del predictor\n",
    "$\\frac{1}{x_{weight}}$."
   ]
  },
  {
   "cell_type": "code",
   "execution_count": 43,
   "metadata": {},
   "outputs": [
    {
     "data": {
      "text/plain": [
       "Text(0.5, 1.0, 'Peso vs. Consumo')"
      ]
     },
     "execution_count": 43,
     "metadata": {},
     "output_type": "execute_result"
    },
    {
     "data": {
      "image/png": "[encoded data removed]",
      "text/plain": [
       "<Figure size 648x504 with 1 Axes>"
      ]
     },
     "metadata": {
      "needs_background": "light"
     },
     "output_type": "display_data"
    }
   ],
   "source": [
    "X = np.stack( [np.ones_like( cars_train.weight ),\n",
    "               1/cars_train.weight.values] ).T\n",
    "y = cars_train.mpg.values\n",
    "\n",
    "beta = np.linalg.inv(X.T @ X) @ X.T @ y\n",
    "beta\n",
    "\n",
    "fig, ax = plt.subplots(figsize=(9,7))\n",
    "ax.scatter( cars.weight, cars.mpg )\n",
    "weightspace = np.linspace(1500, 5000)\n",
    "\n",
    "ax.plot( weightspace, beta[1]*(1/weightspace)+beta[0], c=\"red\")\n",
    "\n",
    "ax.set_xlabel(\"Peso (lbs)\")\n",
    "ax.set_ylabel(\"Consumo (mpg)\")\n",
    "ax.set_title(\"Peso vs. Consumo\")"
   ]
  },
  {
   "cell_type": "markdown",
   "metadata": {},
   "source": [
    "Una vez calculado Beta se obtienen los mse y rmse"
   ]
  },
  {
   "cell_type": "code",
   "execution_count": 44,
   "metadata": {
    "scrolled": true
   },
   "outputs": [
    {
     "name": "stdout",
     "output_type": "stream",
     "text": [
      "19.913159670948755\n",
      "4.4624163489021\n"
     ]
    }
   ],
   "source": [
    "X_test = np.stack( [np.ones_like( cars_test.weight ),\n",
    "               1/cars_test.weight.values] ).T\n",
    "y_test = cars_test.mpg.values\n",
    "\n",
    "\n",
    "mse = ((X_test @ beta - y_test)**2).mean()\n",
    "print(mse)\n",
    "rmse = np.sqrt(mse)\n",
    "print(rmse)"
   ]
  },
  {
   "cell_type": "markdown",
   "metadata": {},
   "source": [
    "Una estrategia para ajustar curvas complejas es la **regresión polinómica**, que consiste en crear características polinómicas a partir de características observadas."
   ]
  },
  {
   "cell_type": "code",
   "execution_count": 45,
   "metadata": {},
   "outputs": [
    {
     "data": {
      "text/plain": [
       "Text(0.5, 1.0, 'Peso vs. Consumo')"
      ]
     },
     "execution_count": 45,
     "metadata": {},
     "output_type": "execute_result"
    },
    {
     "data": {
      "image/png": "[encoded data removed]",
      "text/plain": [
       "<Figure size 648x504 with 1 Axes>"
      ]
     },
     "metadata": {
      "needs_background": "light"
     },
     "output_type": "display_data"
    }
   ],
   "source": [
    "# Ejemplo con función cúbica\n",
    "\n",
    "X = np.stack( [np.ones_like( cars_train.weight ),\n",
    "               cars_train.weight.values**1,\n",
    "               cars_train.weight.values**2,\n",
    "               cars_train.weight.values**3] ).T\n",
    "\n",
    "y = cars_train.mpg.values\n",
    "\n",
    "\n",
    "beta = np.linalg.inv(X.T @ X) @ X.T @ y\n",
    "\n",
    "fig, ax = plt.subplots(figsize=(9,7))\n",
    "ax.scatter( cars.weight, cars.mpg )\n",
    "weightspace = np.linspace(1500, 5000)\n",
    "\n",
    "fake_feats = np.stack( [np.ones_like(weightspace), \n",
    "                        weightspace**1, \n",
    "                        weightspace**2, \n",
    "                        weightspace**3] ).T\n",
    "\n",
    "ax.plot( weightspace, fake_feats @ beta, c=\"red\")\n",
    "ax.set_xlabel(\"Peso (lbs)\")\n",
    "ax.set_ylabel(\"Consumo (mpg)\")\n",
    "ax.set_title(\"Peso vs. Consumo\")"
   ]
  },
  {
   "cell_type": "markdown",
   "metadata": {},
   "source": [
    "## Validación cruzada para selección de hiperparámetros"
   ]
  },
  {
   "cell_type": "markdown",
   "metadata": {},
   "source": [
    "Es posible exagerar con las características polinómicas, lo que lleva a una mala generalización en el conjunto de pruebas, por ejemplo:"
   ]
  },
  {
   "cell_type": "code",
   "execution_count": 50,
   "metadata": {},
   "outputs": [
    {
     "data": {
      "text/plain": [
       "Text(0.5, 1.0, 'Peso vs. Consumo')"
      ]
     },
     "execution_count": 50,
     "metadata": {},
     "output_type": "execute_result"
    },
    {
     "data": {
      "image/png": "[encoded data removed]",
      "text/plain": [
       "<Figure size 648x504 with 1 Axes>"
      ]
     },
     "metadata": {
      "needs_background": "light"
     },
     "output_type": "display_data"
    }
   ],
   "source": [
    "order = 3 # Probar con 3, 5, 8, y 10\n",
    "\n",
    "features = [np.ones_like( cars_train.weight )]\n",
    "for i in range(1,order+1):\n",
    "    features.append( cars_train.weight.values**i )\n",
    "X = np.stack( features ).T\n",
    "y = cars_train.mpg.values\n",
    "\n",
    "beta = np.linalg.inv(X.T @ X) @ X.T @ y\n",
    "\n",
    "fig, ax = plt.subplots(figsize=(9,7))\n",
    "ax.scatter( cars.weight, cars.mpg )\n",
    "weightspace = np.linspace(1500, 5000)\n",
    "fake_feats = [np.ones_like(weightspace)]\n",
    "\n",
    "for i in range(1,order+1):\n",
    "    fake_feats.append( weightspace**i )\n",
    "fake_feats = np.stack( fake_feats ).T\n",
    "\n",
    "ax.plot( weightspace, fake_feats @ beta, c=\"red\")\n",
    "ax.set_xlabel(\"Peso (lbs)\")\n",
    "ax.set_ylabel(\"Consumo (mpg)\")\n",
    "ax.set_title(\"Peso vs. Consumo\")"
   ]
  },
  {
   "cell_type": "markdown",
   "metadata": {},
   "source": [
    "Para encontrar el orden correcto se puede utilizar un rango con ciclo como en el siguiente ejemplo:"
   ]
  },
  {
   "cell_type": "code",
   "execution_count": 51,
   "metadata": {},
   "outputs": [
    {
     "data": {
      "text/plain": [
       "Text(0.5, 1.0, 'MSE polinómico')"
      ]
     },
     "execution_count": 51,
     "metadata": {},
     "output_type": "execute_result"
    },
    {
     "data": {
      "image/png": "[encoded data removed]",
      "text/plain": [
       "<Figure size 432x288 with 1 Axes>"
      ]
     },
     "metadata": {
      "needs_background": "light"
     },
     "output_type": "display_data"
    }
   ],
   "source": [
    "orders = range(1, 10)\n",
    "mses = []\n",
    "for order in orders:\n",
    "\n",
    "    features = [np.ones_like( cars_train.weight )]\n",
    "    for i in range(1,order+1):\n",
    "        features.append( cars_train.weight.values**i )\n",
    "    X = np.stack( features ).T\n",
    "    y = cars_train.mpg.values\n",
    "\n",
    "    beta = np.linalg.inv(X.T @ X) @ X.T @ y\n",
    "\n",
    "    features = [np.ones_like( cars_test.weight )]\n",
    "    for i in range(1,order+1):\n",
    "        features.append( cars_test.weight.values**i )\n",
    "    X_test = np.stack( features ).T\n",
    "\n",
    "    test_mse = ((X_test @ beta - y_test)**2).mean()\n",
    "    mses.append( test_mse )\n",
    "\n",
    "plt.plot( orders, mses )\n",
    "plt.xlabel(\"Orden del polinomio\")\n",
    "plt.ylabel(\"MSE prueba\")\n",
    "plt.title(\"MSE polinómico\")"
   ]
  },
  {
   "cell_type": "markdown",
   "metadata": {},
   "source": [
    "## Regresión lineal con `sklearn`"
   ]
  },
  {
   "cell_type": "markdown",
   "metadata": {},
   "source": [
    "Construir las matrices $X$ y $y$"
   ]
  },
  {
   "cell_type": "code",
   "execution_count": 46,
   "metadata": {},
   "outputs": [],
   "source": [
    "X = cars[[\"cylinders\", \"displacement\", \"horsepower\", \"weight\", \"acceleration\", \"american\", \"european\", \"asian\"]]\n",
    "y = cars[\"mpg\"]"
   ]
  },
  {
   "cell_type": "markdown",
   "metadata": {},
   "source": [
    "Dividir en conjuntos de entrenamiento y prueba"
   ]
  },
  {
   "cell_type": "code",
   "execution_count": 47,
   "metadata": {},
   "outputs": [],
   "source": [
    "X_train, X_test, y_train, y_test = train_test_split(X,y)"
   ]
  },
  {
   "cell_type": "markdown",
   "metadata": {},
   "source": [
    "Ajustar con el conjunto de entrenamiento"
   ]
  },
  {
   "cell_type": "code",
   "execution_count": 48,
   "metadata": {},
   "outputs": [
    {
     "data": {
      "text/plain": [
       "LinearRegression()"
      ]
     },
     "execution_count": 48,
     "metadata": {},
     "output_type": "execute_result"
    }
   ],
   "source": [
    "model = LinearRegression()\n",
    "model.fit(X_train, y_train)"
   ]
  },
  {
   "cell_type": "markdown",
   "metadata": {},
   "source": [
    "Predecir valores $y$ para el conjunto de prueba"
   ]
  },
  {
   "cell_type": "code",
   "execution_count": 49,
   "metadata": {},
   "outputs": [],
   "source": [
    "yhat = model.predict(X_test)"
   ]
  },
  {
   "cell_type": "markdown",
   "metadata": {},
   "source": [
    "Evaluar vs los valores conocidos"
   ]
  },
  {
   "cell_type": "code",
   "execution_count": 50,
   "metadata": {},
   "outputs": [
    {
     "name": "stdout",
     "output_type": "stream",
     "text": [
      "15.788810363214498\n",
      "3.9735136042568797\n"
     ]
    }
   ],
   "source": [
    "mse = mean_squared_error(y_test, yhat)\n",
    "print(mse)\n",
    "rmse = np.sqrt(mse)\n",
    "print(rmse)"
   ]
  },
  {
   "cell_type": "markdown",
   "metadata": {},
   "source": [
    "El mejor modelo hasta ahora.  Pero ¿qué es lo que más influye en el consumo en  mpg?"
   ]
  },
  {
   "cell_type": "code",
   "execution_count": null,
   "metadata": {},
   "outputs": [],
   "source": []
  }
 ],
 "metadata": {
  "kernelspec": {
   "display_name": "Python 3 (ipykernel)",
   "language": "python",
   "name": "python3"
  },
  "language_info": {
   "codemirror_mode": {
    "name": "ipython",
    "version": 3
   },
   "file_extension": ".py",
   "mimetype": "text/x-python",
   "name": "python",
   "nbconvert_exporter": "python",
   "pygments_lexer": "ipython3",
   "version": "3.9.7"
  }
 },
 "nbformat": 4,
 "nbformat_minor": 4
}
