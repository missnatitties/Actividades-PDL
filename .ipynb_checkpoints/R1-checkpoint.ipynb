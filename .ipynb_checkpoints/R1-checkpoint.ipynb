{
 "cells": [
  {
   "cell_type": "markdown",
   "id": "1ed4f415",
   "metadata": {},
   "source": [
    "# Ejercicio 1\n",
    "#Función que imprima cadena \"Hola Mundo\""
   ]
  },
  {
   "cell_type": "code",
   "execution_count": 15,
   "id": "1172203a",
   "metadata": {},
   "outputs": [],
   "source": [
    "# 1.\n",
    "def hi():\n",
    "    print(\"Hola Mundo\")"
   ]
  },
  {
   "cell_type": "code",
   "execution_count": 16,
   "id": "c5ffbcbf",
   "metadata": {},
   "outputs": [
    {
     "name": "stdout",
     "output_type": "stream",
     "text": [
      "Hola Mundo\n"
     ]
    }
   ],
   "source": [
    "hi()"
   ]
  },
  {
   "cell_type": "markdown",
   "id": "8cfd4aa0",
   "metadata": {},
   "source": [
    "# Ejercicio 4\n",
    "#Dado un nombre de planeta y una edad en segundos, calcula qué edad tendría alguien ahí\n",
    "\n",
    "#Redondea a 2 dígitos"
   ]
  },
  {
   "cell_type": "code",
   "execution_count": 17,
   "id": "83af17b9",
   "metadata": {},
   "outputs": [
    {
     "name": "stdout",
     "output_type": "stream",
     "text": [
      "Ingresa el planeta: Júpiter\n",
      "Ingresa tu edad en segundos: 1373004924\n",
      "Edad en el planeta  Júpiter  es:  3.67\n"
     ]
    }
   ],
   "source": [
    "# 4.\n",
    "planeta = input(\"Ingresa el planeta: \")\n",
    "segundos = int(input(\"Ingresa tu edad en segundos: \"))\n",
    "años = segundos/60/60/24/365.25 #Segundos-Minutos-Horas-Días-Años\n",
    "\n",
    "if planeta == \"Mercurio\":\n",
    "    print(\"Edad en el planeta \", planeta, \" es: \", round(años/0.2408467, 2))\n",
    "elif planeta == \"Venus\":\n",
    "    print(\"Edad en el planeta \", planeta, \" es: \", round(años/0.61519726, 2))\n",
    "elif planeta == \"Tierra\":\n",
    "    print(\"Edad en el planeta \", planeta, \" es: \", round(años/1, 2))\n",
    "elif planeta == \"Marte\":\n",
    "    print(\"Edad en el planeta \", planeta, \" es: \", round(años/1.8808158, 2))\n",
    "elif planeta == \"Júpiter\":\n",
    "    print(\"Edad en el planeta \", planeta, \" es: \", round(años/11.862615, 2))\n",
    "elif planeta == \"Saturno\":\n",
    "    print(\"Edad en el planeta \", planeta, \" es: \", round(años/29.447498, 2))\n",
    "elif planeta == \"Urano\":\n",
    "    print(\"Edad en el planeta \", planeta, \" es: \", round(años/84.016846, 2))\n",
    "elif planeta == \"Neptuno\":\n",
    "    print(\"Edad en el planeta \", planeta, \" es: \", round(años/164.79132, 2))\n",
    "    "
   ]
  },
  {
   "cell_type": "markdown",
   "id": "d9a32e1a",
   "metadata": {},
   "source": [
    "# Ejercicio 3\n",
    "#¿Año bisiesto?"
   ]
  },
  {
   "cell_type": "code",
   "execution_count": 13,
   "id": "b05eacc2",
   "metadata": {},
   "outputs": [],
   "source": [
    "# 3. \n",
    "#¿Año bisiesto?\n",
    "def bisiesto(año):\n",
    "    if(año % 4 == 0):\n",
    "        return True\n",
    "    elif(año % 100 == 0):\n",
    "        return False\n",
    "    elif(año % 4 == 0):\n",
    "        return True\n",
    "    else:\n",
    "        return False  "
   ]
  },
  {
   "cell_type": "code",
   "execution_count": 9,
   "id": "7cb21728",
   "metadata": {},
   "outputs": [
    {
     "data": {
      "text/plain": [
       "False"
      ]
     },
     "execution_count": 9,
     "metadata": {},
     "output_type": "execute_result"
    }
   ],
   "source": [
    "bisiesto(2008)"
   ]
  },
  {
   "cell_type": "code",
   "execution_count": 12,
   "id": "f9b8aca3",
   "metadata": {},
   "outputs": [
    {
     "data": {
      "text/plain": [
       "False"
      ]
     },
     "execution_count": 12,
     "metadata": {},
     "output_type": "execute_result"
    }
   ],
   "source": [
    "bisiesto(2011)"
   ]
  },
  {
   "cell_type": "code",
   "execution_count": 14,
   "id": "e2ce34f6",
   "metadata": {},
   "outputs": [
    {
     "data": {
      "text/plain": [
       "True"
      ]
     },
     "execution_count": 14,
     "metadata": {},
     "output_type": "execute_result"
    }
   ],
   "source": [
    "bisiesto(2024)"
   ]
  },
  {
   "cell_type": "markdown",
   "id": "7d42851f",
   "metadata": {},
   "source": [
    "# Ejercicio 2\n",
    "#Resistencias: código por color \n",
    "\n",
    "#Limitado a dos colores\n",
    "\n",
    "#El código respecto al color ya está preestablecido"
   ]
  },
  {
   "cell_type": "code",
   "execution_count": 19,
   "id": "ab4cfd19",
   "metadata": {},
   "outputs": [],
   "source": [
    "# 2.\n",
    "códigos = {\"negro\": 0, \"marrón\": 1, \"rojo\": 2, \"naranja\": 3, \"amarillo\": 4, \"verde\": 5, \"azul\": 6, \"púrpura\": 7, \"gris\": 8, \"blanco\": 9}\n",
    "def código(colores):\n",
    "    valores = colores.split(sep = \"-\")\n",
    "    p1 = str(códigos[valores[0]])\n",
    "    p2 = str(códigos[valores[1]])\n",
    "    return p1 + p2"
   ]
  },
  {
   "cell_type": "code",
   "execution_count": 20,
   "id": "26b56623",
   "metadata": {},
   "outputs": [
    {
     "name": "stdout",
     "output_type": "stream",
     "text": [
      "Ingresa los colores a decodificar, separados por un guión medio: marrón-azul\n",
      "16\n"
     ]
    }
   ],
   "source": [
    "entrada = str(input(\"Ingresa los colores a decodificar, separados por un guión medio: \"))\n",
    "print(código(entrada))"
   ]
  },
  {
   "cell_type": "code",
   "execution_count": 21,
   "id": "d1ccdb9d",
   "metadata": {},
   "outputs": [
    {
     "name": "stdout",
     "output_type": "stream",
     "text": [
      "Ingresa los colores a decodificar, separados por un guión medio: púrpura-amarillo\n",
      "74\n"
     ]
    }
   ],
   "source": [
    "entrada = str(input(\"Ingresa los colores a decodificar, separados por un guión medio: \"))\n",
    "print(código(entrada))"
   ]
  },
  {
   "cell_type": "code",
   "execution_count": 24,
   "id": "4c2bc545",
   "metadata": {},
   "outputs": [
    {
     "ename": "KeyError",
     "evalue": "'celeste'",
     "output_type": "error",
     "traceback": [
      "\u001b[1;31m---------------------------------------------------------------------------\u001b[0m",
      "\u001b[1;31mKeyError\u001b[0m                                  Traceback (most recent call last)",
      "Input \u001b[1;32mIn [24]\u001b[0m, in \u001b[0;36m<cell line: 1>\u001b[1;34m()\u001b[0m\n\u001b[1;32m----> 1\u001b[0m \u001b[38;5;28mprint\u001b[39m(\u001b[43mcódigo\u001b[49m\u001b[43m(\u001b[49m\u001b[38;5;124;43m\"\u001b[39;49m\u001b[38;5;124;43mceleste-vino\u001b[39;49m\u001b[38;5;124;43m\"\u001b[39;49m\u001b[43m)\u001b[49m)\n",
      "Input \u001b[1;32mIn [19]\u001b[0m, in \u001b[0;36mcódigo\u001b[1;34m(colores)\u001b[0m\n\u001b[0;32m      3\u001b[0m \u001b[38;5;28;01mdef\u001b[39;00m \u001b[38;5;21mcódigo\u001b[39m(colores):\n\u001b[0;32m      4\u001b[0m     valores \u001b[38;5;241m=\u001b[39m colores\u001b[38;5;241m.\u001b[39msplit(sep \u001b[38;5;241m=\u001b[39m \u001b[38;5;124m\"\u001b[39m\u001b[38;5;124m-\u001b[39m\u001b[38;5;124m\"\u001b[39m)\n\u001b[1;32m----> 5\u001b[0m     p1 \u001b[38;5;241m=\u001b[39m \u001b[38;5;28mstr\u001b[39m(\u001b[43mcódigos\u001b[49m\u001b[43m[\u001b[49m\u001b[43mvalores\u001b[49m\u001b[43m[\u001b[49m\u001b[38;5;241;43m0\u001b[39;49m\u001b[43m]\u001b[49m\u001b[43m]\u001b[49m)\n\u001b[0;32m      6\u001b[0m     p2 \u001b[38;5;241m=\u001b[39m \u001b[38;5;28mstr\u001b[39m(códigos[valores[\u001b[38;5;241m1\u001b[39m]])\n\u001b[0;32m      7\u001b[0m     \u001b[38;5;28;01mreturn\u001b[39;00m p1 \u001b[38;5;241m+\u001b[39m p2\n",
      "\u001b[1;31mKeyError\u001b[0m: 'celeste'"
     ]
    }
   ],
   "source": [
    "print(código(\"celeste-vino\"))"
   ]
  },
  {
   "cell_type": "code",
   "execution_count": 25,
   "id": "360b0e7c",
   "metadata": {},
   "outputs": [
    {
     "ename": "KeyError",
     "evalue": "'vino'",
     "output_type": "error",
     "traceback": [
      "\u001b[1;31m---------------------------------------------------------------------------\u001b[0m",
      "\u001b[1;31mKeyError\u001b[0m                                  Traceback (most recent call last)",
      "Input \u001b[1;32mIn [25]\u001b[0m, in \u001b[0;36m<cell line: 1>\u001b[1;34m()\u001b[0m\n\u001b[1;32m----> 1\u001b[0m \u001b[38;5;28mprint\u001b[39m(\u001b[43mcódigo\u001b[49m\u001b[43m(\u001b[49m\u001b[38;5;124;43m\"\u001b[39;49m\u001b[38;5;124;43mnegro-vino\u001b[39;49m\u001b[38;5;124;43m\"\u001b[39;49m\u001b[43m)\u001b[49m)\n",
      "Input \u001b[1;32mIn [19]\u001b[0m, in \u001b[0;36mcódigo\u001b[1;34m(colores)\u001b[0m\n\u001b[0;32m      4\u001b[0m valores \u001b[38;5;241m=\u001b[39m colores\u001b[38;5;241m.\u001b[39msplit(sep \u001b[38;5;241m=\u001b[39m \u001b[38;5;124m\"\u001b[39m\u001b[38;5;124m-\u001b[39m\u001b[38;5;124m\"\u001b[39m)\n\u001b[0;32m      5\u001b[0m p1 \u001b[38;5;241m=\u001b[39m \u001b[38;5;28mstr\u001b[39m(códigos[valores[\u001b[38;5;241m0\u001b[39m]])\n\u001b[1;32m----> 6\u001b[0m p2 \u001b[38;5;241m=\u001b[39m \u001b[38;5;28mstr\u001b[39m(\u001b[43mcódigos\u001b[49m\u001b[43m[\u001b[49m\u001b[43mvalores\u001b[49m\u001b[43m[\u001b[49m\u001b[38;5;241;43m1\u001b[39;49m\u001b[43m]\u001b[49m\u001b[43m]\u001b[49m)\n\u001b[0;32m      7\u001b[0m \u001b[38;5;28;01mreturn\u001b[39;00m p1 \u001b[38;5;241m+\u001b[39m p2\n",
      "\u001b[1;31mKeyError\u001b[0m: 'vino'"
     ]
    }
   ],
   "source": [
    "print(código(\"negro-vino\"))"
   ]
  },
  {
   "cell_type": "code",
   "execution_count": 26,
   "id": "54a78435",
   "metadata": {},
   "outputs": [
    {
     "name": "stdout",
     "output_type": "stream",
     "text": [
      "03\n"
     ]
    }
   ],
   "source": [
    "print(código(\"negro-naranja\"))"
   ]
  }
 ],
 "metadata": {
  "kernelspec": {
   "display_name": "Python 3 (ipykernel)",
   "language": "python",
   "name": "python3"
  },
  "language_info": {
   "codemirror_mode": {
    "name": "ipython",
    "version": 3
   },
   "file_extension": ".py",
   "mimetype": "text/x-python",
   "name": "python",
   "nbconvert_exporter": "python",
   "pygments_lexer": "ipython3",
   "version": "3.9.12"
  }
 },
 "nbformat": 4,
 "nbformat_minor": 5
}
