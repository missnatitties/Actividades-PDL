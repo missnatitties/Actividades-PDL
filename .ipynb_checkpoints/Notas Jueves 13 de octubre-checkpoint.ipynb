{
 "cells": [
  {
   "cell_type": "markdown",
   "id": "8fe2c7a7",
   "metadata": {},
   "source": [
    "# Notas"
   ]
  },
  {
   "cell_type": "markdown",
   "id": "e4051511",
   "metadata": {},
   "source": [
    "Numpy"
   ]
  },
  {
   "cell_type": "markdown",
   "id": "28e1cd9f",
   "metadata": {},
   "source": [
    "## Crear matrices"
   ]
  },
  {
   "cell_type": "code",
   "execution_count": 2,
   "id": "ce889093",
   "metadata": {},
   "outputs": [
    {
     "data": {
      "text/plain": [
       "array([[0., 0., 0., 0.],\n",
       "       [0., 0., 0., 0.],\n",
       "       [0., 0., 0., 0.]])"
      ]
     },
     "execution_count": 2,
     "metadata": {},
     "output_type": "execute_result"
    }
   ],
   "source": [
    "import numpy as np\n",
    "np.zeros((3,4))"
   ]
  },
  {
   "cell_type": "code",
   "execution_count": 3,
   "id": "741e68b2",
   "metadata": {},
   "outputs": [
    {
     "data": {
      "text/plain": [
       "array([[[1, 1, 1, 1],\n",
       "        [1, 1, 1, 1],\n",
       "        [1, 1, 1, 1]],\n",
       "\n",
       "       [[1, 1, 1, 1],\n",
       "        [1, 1, 1, 1],\n",
       "        [1, 1, 1, 1]]], dtype=int16)"
      ]
     },
     "execution_count": 3,
     "metadata": {},
     "output_type": "execute_result"
    }
   ],
   "source": [
    "np.ones((2,3,4), dtype=np.int16)"
   ]
  },
  {
   "cell_type": "markdown",
   "id": "c2071694",
   "metadata": {},
   "source": [
    "## Inspeccionar tu matriz"
   ]
  },
  {
   "cell_type": "markdown",
   "id": "59cc90b2",
   "metadata": {},
   "source": [
    "a.shape -> dimensiones\n",
    "\n",
    "len(a) -> length\n",
    "\n",
    "a.ndis -> number of array dimensiones\n",
    "\n",
    "a.size -> number of array elements\n",
    "\n",
    "a.dtype -> data type de los elementos\n",
    "\n",
    "a.dtype.name -> name of data type\n",
    "\n",
    "a.astype(int) -> convertir el array a un número entero"
   ]
  },
  {
   "cell_type": "markdown",
   "id": "4add2637",
   "metadata": {},
   "source": [
    "## Ejercicio"
   ]
  },
  {
   "cell_type": "code",
   "execution_count": 7,
   "id": "d2ff0785",
   "metadata": {},
   "outputs": [],
   "source": [
    "import numpy as np"
   ]
  },
  {
   "cell_type": "code",
   "execution_count": 14,
   "id": "b4aaf6d8",
   "metadata": {},
   "outputs": [
    {
     "data": {
      "text/plain": [
       "array([[0.69434974, 0.42758626, 0.90130591, 0.94370272],\n",
       "       [0.25610983, 0.9474769 , 0.11515308, 0.122896  ],\n",
       "       [0.11963602, 0.14787269, 0.8848143 , 0.38105088]])"
      ]
     },
     "execution_count": 14,
     "metadata": {},
     "output_type": "execute_result"
    }
   ],
   "source": [
    "a = np.random.rand(3,4) # Matriz con números aleatorios entre 0 y 1\n",
    "a"
   ]
  },
  {
   "cell_type": "code",
   "execution_count": 16,
   "id": "cd648d88",
   "metadata": {},
   "outputs": [
    {
     "data": {
      "text/plain": [
       "array([[0.69434974, 0.25610983, 0.11963602],\n",
       "       [0.42758626, 0.9474769 , 0.14787269],\n",
       "       [0.90130591, 0.11515308, 0.8848143 ],\n",
       "       [0.94370272, 0.122896  , 0.38105088]])"
      ]
     },
     "execution_count": 16,
     "metadata": {},
     "output_type": "execute_result"
    }
   ],
   "source": [
    "b=a.T # Trasponer\n",
    "b"
   ]
  },
  {
   "cell_type": "code",
   "execution_count": 18,
   "id": "bee643d9",
   "metadata": {},
   "outputs": [
    {
     "data": {
      "text/plain": [
       "array([[0.69434974, 0.25610983, 0.11963602, 0.42758626, 0.9474769 ,\n",
       "        0.14787269],\n",
       "       [0.90130591, 0.11515308, 0.8848143 , 0.94370272, 0.122896  ,\n",
       "        0.38105088]])"
      ]
     },
     "execution_count": 18,
     "metadata": {},
     "output_type": "execute_result"
    }
   ],
   "source": [
    "c = b.reshape(2,6) # Reshape\n",
    "c"
   ]
  },
  {
   "cell_type": "code",
   "execution_count": 20,
   "id": "0806774a",
   "metadata": {},
   "outputs": [
    {
     "data": {
      "text/plain": [
       "array([2.59303144, 3.34892289])"
      ]
     },
     "execution_count": 20,
     "metadata": {},
     "output_type": "execute_result"
    }
   ],
   "source": [
    "d = np.sum(c, axis=1) # Row-wise sum\n",
    "d"
   ]
  },
  {
   "cell_type": "code",
   "execution_count": 21,
   "id": "4094dbb1",
   "metadata": {},
   "outputs": [
    {
     "ename": "ValueError",
     "evalue": "The truth value of an array with more than one element is ambiguous. Use a.any() or a.all()",
     "output_type": "error",
     "traceback": [
      "\u001b[1;31m---------------------------------------------------------------------------\u001b[0m",
      "\u001b[1;31mValueError\u001b[0m                                Traceback (most recent call last)",
      "Input \u001b[1;32mIn [21]\u001b[0m, in \u001b[0;36m<cell line: 4>\u001b[1;34m()\u001b[0m\n\u001b[0;32m      2\u001b[0m filter_arr \u001b[38;5;241m=\u001b[39m []\n\u001b[0;32m      4\u001b[0m \u001b[38;5;28;01mfor\u001b[39;00m element \u001b[38;5;129;01min\u001b[39;00m b:\n\u001b[1;32m----> 5\u001b[0m   \u001b[38;5;28;01mif\u001b[39;00m \u001b[43melement\u001b[49m\u001b[43m \u001b[49m\u001b[38;5;241;43m>\u001b[39;49m\u001b[43m \u001b[49m\u001b[38;5;241;43m0.5\u001b[39;49m:\n\u001b[0;32m      6\u001b[0m     filter_arr\u001b[38;5;241m.\u001b[39mappend(\u001b[38;5;28;01mTrue\u001b[39;00m)\n\u001b[0;32m      7\u001b[0m   \u001b[38;5;28;01melse\u001b[39;00m:\n",
      "\u001b[1;31mValueError\u001b[0m: The truth value of an array with more than one element is ambiguous. Use a.any() or a.all()"
     ]
    }
   ],
   "source": [
    "# Vacío\n",
    "filter_arr = []\n",
    "\n",
    "for element in b:\n",
    "  if element > 0.5:\n",
    "    filter_arr.append(True)\n",
    "  else:\n",
    "    filter_arr.append(False)\n",
    "\n",
    "newarr = arr[filter_arr]\n",
    "\n",
    "print(filter_arr)\n",
    "print(newarr)"
   ]
  },
  {
   "cell_type": "code",
   "execution_count": 22,
   "id": "06efca5d",
   "metadata": {},
   "outputs": [
    {
     "data": {
      "text/plain": [
       "array([3.        , 3.10526316, 3.21052632, 3.31578947, 3.42105263,\n",
       "       3.52631579, 3.63157895, 3.73684211, 3.84210526, 3.94736842,\n",
       "       4.05263158, 4.15789474, 4.26315789, 4.36842105, 4.47368421,\n",
       "       4.57894737, 4.68421053, 4.78947368, 4.89473684, 5.        ])"
      ]
     },
     "execution_count": 22,
     "metadata": {},
     "output_type": "execute_result"
    }
   ],
   "source": [
    "# Espaciado: 20 números entre 3 y 5\n",
    "f = np.linspace(3, 5, 20)\n",
    "f"
   ]
  },
  {
   "cell_type": "code",
   "execution_count": null,
   "id": "9ce55817",
   "metadata": {},
   "outputs": [],
   "source": []
  }
 ],
 "metadata": {
  "kernelspec": {
   "display_name": "Python 3 (ipykernel)",
   "language": "python",
   "name": "python3"
  },
  "language_info": {
   "codemirror_mode": {
    "name": "ipython",
    "version": 3
   },
   "file_extension": ".py",
   "mimetype": "text/x-python",
   "name": "python",
   "nbconvert_exporter": "python",
   "pygments_lexer": "ipython3",
   "version": "3.9.12"
  }
 },
 "nbformat": 4,
 "nbformat_minor": 5
}
