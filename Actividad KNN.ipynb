{
 "cells": [
  {
   "attachments": {},
   "cell_type": "markdown",
   "metadata": {},
   "source": [
    "# Actividad KNN"
   ]
  },
  {
   "attachments": {},
   "cell_type": "markdown",
   "metadata": {},
   "source": [
    "## Parte 1"
   ]
  },
  {
   "attachments": {},
   "cell_type": "markdown",
   "metadata": {},
   "source": [
    "Ejecutar el código en main.py, como python main.py desde una terminal\n",
    "- Puede modificar main.py, pero no es necesario.\n",
    "\n",
    "Crear 3 funciones en src/knn.py:\n",
    "- Distancia_euclidiana\n",
    "- Distancia_manhattan\n",
    "- Similitud coseno\n",
    "\n",
    "Terminar la función de la clase KNNRegressor\n"
   ]
  },
  {
   "cell_type": "code",
   "execution_count": null,
   "metadata": {},
   "outputs": [],
   "source": [
    "import numpy as np\n",
    "from scipy import stats\n",
    "\n",
    "\n",
    "def make_data(n_features, n_pts, noise=0.0):\n",
    "\n",
    "    X = stats.uniform(-1, 2).rvs((n_pts, n_features))\n",
    "\n",
    "    # include a feature of 1's, for first-order terms in quadratic\n",
    "    ones = np.ones((n_pts, 1))\n",
    "    X_plus_ones = np.concatenate([ones, X], axis=1)\n",
    "\n",
    "    # random coefficient matrix\n",
    "    coeffs = stats.uniform(-1, 2).rvs((n_features+1, n_features+1))\n",
    "\n",
    "    y = (X_plus_ones.reshape(n_pts, n_features+1, 1) *\n",
    "         coeffs *\n",
    "         X_plus_ones.reshape(n_pts, 1, n_features+1)).sum(axis=(1, 2))\n",
    "    y += stats.norm(0, noise).rvs(n_pts)\n",
    "    return X, y\n"
   ]
  },
  {
   "cell_type": "code",
   "execution_count": null,
   "metadata": {},
   "outputs": [],
   "source": [
    "import numpy as np\n",
    "import pandas as pd\n",
    "from collections import Counter\n",
    "from sklearn.model_selection import train_test_split\n",
    "\n",
    "\n",
    "def euclidean_distance(a, b):\n",
    "    return np.linalg.norm(a-b)\n",
    "\n",
    "def cosine_distance(a, b):\n",
    "    return (a@b)/(np.linalg.norm(a)*np.linalg.norm(b)) #El @ hace el producto punto\n",
    "\n",
    "def manhattan_distance(a, b):\n",
    "    return sum(abs(val1-val2) for val1, val2 in zip(a,b)) #Los colocas en pares\n",
    "\n",
    "class KNNRegressor:\n",
    "    def __init__(self, k=5, distance=euclidean_distance):\n",
    "        self.k = k\n",
    "        self.distance = distance\n",
    "\n",
    "    def fit(self, X, y):\n",
    "        self.X_train = np.array(X)\n",
    "        self.y_train = np.array(y)\n",
    "                                                \n",
    "    def predict(self, X):\n",
    "        self.X_test = X\n",
    "        values_x = []\n",
    "        positions = []\n",
    "        results = []\n",
    "        for i in self.X_test:\n",
    "            for position, j in enumerate(self.X_train):\n",
    "                values_x.append(self.distance(i,j))\n",
    "                positions.append(position)\n",
    "            df = pd.DataFrame.from_dict({'Positions': positions, 'x_value': values_x})\n",
    "            df = df.sort_values(by = 'x_value')\n",
    "            df = df.iloc[:self.k,:]\n",
    "            df['y_values'] = self.y_train[df['Positions']]\n",
    "            mean = df['y_values'].mean()\n",
    "            results.append(mean)\n",
    "        return np.array(results) #Array donde imputas los valores que se predicen"
   ]
  },
  {
   "cell_type": "code",
   "execution_count": null,
   "metadata": {},
   "outputs": [],
   "source": [
    "# get data\n",
    "X, y = make_data(n_features=2, n_pts=300, noise=0.1)\n",
    "\n",
    "# separate into training and test\n",
    "X_train = X[5:]\n",
    "y_train = y[5:]\n",
    "X_test = X[:5]\n",
    "y_test = y[:5]\n",
    "\n",
    "# perform a KNN Regression using multiple distance functions\n",
    "for f in [euclidean_distance, manhattan_distance, cosine_distance]:\n",
    "    knn = KNNRegressor(k=3, distance=f)\n",
    "    knn.fit(X_train, y_train)\n",
    "    y_pred = knn.predict(X_test)\n",
    "\n",
    "    print(f.__name__)\n",
    "    print(\"Compare our predictions to the actual values. Are they similar?\")\n",
    "    print(\"Predictions\", y_pred)\n",
    "    print(\"Actual\", y_test)\n",
    "    print('*' * 50)"
   ]
  },
  {
   "attachments": {},
   "cell_type": "markdown",
   "metadata": {},
   "source": [
    "## Parte 2"
   ]
  },
  {
   "attachments": {},
   "cell_type": "markdown",
   "metadata": {},
   "source": [
    "Generar un conjunto de datos\n",
    "\n",
    "Utilizar el Código en src/make_data.py para generar un conjunto de datos como el siguiente:\n",
    "- from src.make_data import make_data\n",
    "- X, y = make_data(n_features=2, n_pts=300, noise=0.1)\n"
   ]
  },
  {
   "cell_type": "code",
   "execution_count": null,
   "metadata": {},
   "outputs": [],
   "source": [
    "X, y = make_data(n_features = 2, n_pts = 300, noise = 0.1)"
   ]
  },
  {
   "cell_type": "code",
   "execution_count": 48,
   "metadata": {},
   "outputs": [
    {
     "name": "stdout",
     "output_type": "stream",
     "text": [
      "euclidean_distance\n",
      "Compare our predictions to the actual values. Are they similar?\n",
      "Predictions [-0.2959842  -0.87797341 -0.62772847 -0.62772847 -0.89126244]\n",
      "Actual [-0.4089401  -0.86533844  0.02230358 -1.12460348 -0.5221491 ]\n",
      "**************************************************\n",
      "manhattan_distance\n",
      "Compare our predictions to the actual values. Are they similar?\n",
      "Predictions [-0.32561062 -0.90760312 -0.62772847 -0.62772847 -0.89126244]\n",
      "Actual [-0.4089401  -0.86533844  0.02230358 -1.12460348 -0.5221491 ]\n",
      "**************************************************\n",
      "cosine_distance\n",
      "Compare our predictions to the actual values. Are they similar?\n",
      "Predictions [-0.92093132 -0.75595895 -0.86661634 -0.44853052 -0.04713485]\n",
      "Actual [-0.4089401  -0.86533844  0.02230358 -1.12460348 -0.5221491 ]\n",
      "**************************************************\n"
     ]
    }
   ],
   "source": [
    "# separate into training and test\n",
    "X_train = X[5:]\n",
    "y_train = y[5:]\n",
    "X_test = X[:5]\n",
    "y_test = y[:5]\n",
    "\n",
    "# perform a KNN Regression using multiple distance functions\n",
    "for f in [euclidean_distance, manhattan_distance, cosine_distance]:\n",
    "    knn = KNNRegressor(k=3, distance=f)\n",
    "    knn.fit(X_train, y_train)\n",
    "    y_pred = knn.predict(X_test)\n",
    "\n",
    "    print(f.__name__)\n",
    "    print(\"Compare our predictions to the actual values. Are they similar?\")\n",
    "    print(\"Predictions\", y_pred)\n",
    "    print(\"Actual\", y_test)\n",
    "    print('*' * 50)"
   ]
  }
 ],
 "metadata": {
  "kernelspec": {
   "display_name": "Python 3",
   "language": "python",
   "name": "python3"
  },
  "language_info": {
   "codemirror_mode": {
    "name": "ipython",
    "version": 3
   },
   "file_extension": ".py",
   "mimetype": "text/x-python",
   "name": "python",
   "nbconvert_exporter": "python",
   "pygments_lexer": "ipython3",
   "version": "3.11.1"
  },
  "orig_nbformat": 4,
  "vscode": {
   "interpreter": {
    "hash": "eea9129ac0da676251298d3d8b90b597992a002f977ae73d6ae62613d9b197a3"
   }
  }
 },
 "nbformat": 4,
 "nbformat_minor": 2
}
