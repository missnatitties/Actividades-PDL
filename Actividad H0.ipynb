{
 "cells": [
  {
   "cell_type": "markdown",
   "metadata": {},
   "source": [
    "# Importar"
   ]
  },
  {
   "cell_type": "code",
   "execution_count": 1,
   "metadata": {},
   "outputs": [],
   "source": [
    "import pandas as pd\n",
    "import numpy as np\n",
    "import scipy as sp\n",
    "import scipy.stats as stats\n",
    "import matplotlib.pyplot as plt"
   ]
  },
  {
   "cell_type": "markdown",
   "metadata": {},
   "source": [
    "# Ejercicio 1"
   ]
  },
  {
   "cell_type": "markdown",
   "metadata": {},
   "source": [
    "Un inventor ha desarrollado un nuevo motor para podadoras de bajo consumo energético. Afirma que el motor funcionará continuamente durante más de 5 horas (300 minutos) con un solo galón de gasolina.\n",
    "\n",
    "El motor de podadoras de la marca líder funciona durante 300 minutos con un galón de gasolina. \n",
    "\n",
    "De su stock de motores, el inventor selecciona una muestra aleatoria de 50 motores para probarlos. \n",
    "\n",
    "Los motores seleccionados funcionan en promedio 305 minutos, con una desviación estándar de 30 minutos.\n",
    "\n",
    "Probar la hipótesis de que el tiempo medio de funcionamiento es superior a 300 minutos. Utilizar un nivel de significación de 0.05."
   ]
  },
  {
   "cell_type": "markdown",
   "metadata": {},
   "source": [
    "Prueba de una cola: \n",
    "* H0: x = 300 minutos\n",
    "* H1: x > 300 minutos"
   ]
  },
  {
   "cell_type": "code",
   "execution_count": 3,
   "metadata": {},
   "outputs": [],
   "source": [
    "alpha = 0.05\n",
    "t = 300\n",
    "muestra = 50\n",
    "media = 305\n",
    "de = 30\n",
    "\n",
    "den = de / (muestra**0.5)\n",
    "\n",
    "z_score = (media - t) / den\n",
    "ppf = stats.norm(0,1).ppf(1-alpha)\n",
    "p_value = 1-stats.norm(0,1).cdf(z_score)\n",
    "\n"
   ]
  },
  {
   "cell_type": "code",
   "execution_count": 4,
   "metadata": {},
   "outputs": [
    {
     "data": {
      "text/plain": [
       "(1.1785113019775793, 1.6448536269514722, 0.11929641465821783)"
      ]
     },
     "execution_count": 4,
     "metadata": {},
     "output_type": "execute_result"
    }
   ],
   "source": [
    "z_score, ppf, p_value"
   ]
  },
  {
   "cell_type": "code",
   "execution_count": 43,
   "metadata": {},
   "outputs": [
    {
     "name": "stdout",
     "output_type": "stream",
     "text": [
      "No se rechaza H0\n"
     ]
    }
   ],
   "source": [
    "print('No se rechaza H0')"
   ]
  },
  {
   "cell_type": "markdown",
   "metadata": {},
   "source": [
    "# Ejercicio 2"
   ]
  },
  {
   "cell_type": "markdown",
   "metadata": {},
   "source": [
    "Un fabricante de aderezos para ensaladas utiliza una máquina para dispensar los ingredientes líquidos en botellas que se mueven a lo largo de una línea de llenado. La dispensadora funciona correctamente con una cantidad de 8 onzas.\n",
    "\n",
    "Supongamos que la cantidad media dispensada en una muestra de 35 botellas es de 7.91 onzas con una varianza de 0.03 onzas al cuadrado. \n",
    "\n",
    "Determinar si la máquina debe detenerse y la producción debe esperar hasta que se repare la máquina\n",
    "\n",
    "La pérdida de producción derivada de una parada es tan grande que la dirección cree que el nivel de significación en el análisis debe ser del 99%.\n"
   ]
  },
  {
   "cell_type": "markdown",
   "metadata": {},
   "source": [
    "Prueba de dos colas\n",
    "* H0: x = 8\n",
    "* H1: x =/= 8"
   ]
  },
  {
   "cell_type": "code",
   "execution_count": 21,
   "metadata": {},
   "outputs": [],
   "source": [
    "muestra = 35\n",
    "media = 7.91\n",
    "de = 0.03 # Dado que varianza = 0.03**2\n",
    "alpha = 0.01\n",
    "oz = 8\n",
    "\n",
    "den = de / (muestra**0.5)\n",
    "\n",
    "z_score = (media - oz) / den\n",
    "ppf_lower = stats.norm(0,1).ppf(alpha/2)\n",
    "ppf_upper = stats.norm(0,1).ppf(1-alpha/2)\n",
    "p_value = stats.norm(0,1).cdf(z_score)\n"
   ]
  },
  {
   "cell_type": "code",
   "execution_count": 22,
   "metadata": {},
   "outputs": [
    {
     "data": {
      "text/plain": [
       "(-17.74823934929882,\n",
       " -2.575829303548901,\n",
       " 2.5758293035489004,\n",
       " 8.892133025881668e-71)"
      ]
     },
     "execution_count": 22,
     "metadata": {},
     "output_type": "execute_result"
    }
   ],
   "source": [
    "z_score, ppf_lower, ppf_upper, p_value"
   ]
  },
  {
   "cell_type": "code",
   "execution_count": 48,
   "metadata": {},
   "outputs": [
    {
     "name": "stdout",
     "output_type": "stream",
     "text": [
      "Se rechaza H0\n"
     ]
    }
   ],
   "source": [
    "print('Se rechaza H0')"
   ]
  },
  {
   "cell_type": "markdown",
   "metadata": {},
   "source": [
    "# Ejercicio 3"
   ]
  },
  {
   "cell_type": "markdown",
   "metadata": {},
   "source": [
    "Una empresa de bebidas afirma que sus botellas de agua tienen exactamente 16 onzas. Las muestras se encuentran en el documento “water.csv”\n",
    "\n",
    "Elaborar una prueba de hipótesis con alfa = 1%.\n",
    "\n",
    "Calcular manualmente y con API para comparar ambos resultados\n"
   ]
  },
  {
   "cell_type": "markdown",
   "metadata": {},
   "source": [
    "Prueba de dos colas\n",
    "* H0: x = 16\n",
    "* H1: x =/= 16"
   ]
  },
  {
   "cell_type": "code",
   "execution_count": 5,
   "metadata": {},
   "outputs": [
    {
     "data": {
      "text/plain": [
       "<bound method NDFrame.head of      Unnamed: 0          0\n",
       "0             0  16.357251\n",
       "1             1  14.775995\n",
       "2             2  16.220070\n",
       "3             3  15.826246\n",
       "4             4  15.169998\n",
       "..          ...        ...\n",
       "845         845  16.038042\n",
       "846         846  16.252982\n",
       "847         847  14.982693\n",
       "848         848  15.887318\n",
       "849         849  14.708798\n",
       "\n",
       "[850 rows x 2 columns]>"
      ]
     },
     "execution_count": 5,
     "metadata": {},
     "output_type": "execute_result"
    }
   ],
   "source": [
    "df = pd.read_csv('Files actividades\\water.csv')\n",
    "df.head"
   ]
  },
  {
   "cell_type": "code",
   "execution_count": 17,
   "metadata": {},
   "outputs": [],
   "source": [
    "muestra = len(df)\n",
    "media = df['0'].mean()\n",
    "de = df['0'].std() \n",
    "alpha = 0.01\n",
    "oz = 16\n",
    "\n",
    "den = de / (muestra**0.5)\n",
    "\n",
    "z_score = (media - oz) / den\n",
    "ppf_lower = stats.norm(0,1).ppf(alpha/2)\n",
    "ppf_upper = stats.norm(0,1).ppf(1-alpha/2)\n",
    "p_value = stats.norm(0,1).cdf(z_score)\n"
   ]
  },
  {
   "cell_type": "code",
   "execution_count": 18,
   "metadata": {},
   "outputs": [
    {
     "data": {
      "text/plain": [
       "(-2.5089123466169267,\n",
       " -2.575829303548901,\n",
       " 2.5758293035489004,\n",
       " 0.006055176555648026)"
      ]
     },
     "execution_count": 18,
     "metadata": {},
     "output_type": "execute_result"
    }
   ],
   "source": [
    "z_score, ppf_lower, ppf_upper, p_value"
   ]
  },
  {
   "cell_type": "code",
   "execution_count": 47,
   "metadata": {},
   "outputs": [
    {
     "name": "stdout",
     "output_type": "stream",
     "text": [
      "No se rechaza H0\n"
     ]
    }
   ],
   "source": [
    "print('No se rechaza H0')"
   ]
  },
  {
   "cell_type": "markdown",
   "metadata": {},
   "source": [
    "# Ejercicio 4"
   ]
  },
  {
   "cell_type": "markdown",
   "metadata": {},
   "source": [
    "La escala Brinell es una medida de la dureza de un material. Un ingeniero supone que la puntuación Brinell media de todas las piezas de cierto tipo de material (hierro dúctil recocido subcríticamente) no es igual a 170. \n",
    "\n",
    "El ingeniero mide 25 piezas de este tipo de material y calcula que la media de la muestra es de 174.52 y la desviación estándar de la muestra es de 10.31. \n",
    "\n",
    "Elaborar una prueba de hipótesis de que la verdadera puntuación Brinell media no es igual a 170, así como el correspondiente intervalo de confianza con alfa = 0.01.\n"
   ]
  },
  {
   "cell_type": "markdown",
   "metadata": {},
   "source": [
    "Prueba de dos colas\n",
    "* H0: x = 170\n",
    "* H1: x =/= 170"
   ]
  },
  {
   "cell_type": "code",
   "execution_count": 28,
   "metadata": {},
   "outputs": [],
   "source": [
    "muestra = 25\n",
    "media = 174.52\n",
    "de = 10.31\n",
    "alpha = 0.01\n",
    "brinell = 170\n",
    "\n",
    "den = de / (muestra**0.5)\n",
    "\n",
    "t = (media - brinell) / den\n",
    "\n",
    "ppf_upper = stats.t.ppf(q = alpha/2, df = muestra - 1)\n",
    "ppf_upper = stats.t.ppf(q = 1-alpha/2,  df = muestra - 1)\n",
    "p_value = 1-stats.t.cdf(x = t, df = muestra - 1)"
   ]
  },
  {
   "cell_type": "code",
   "execution_count": 29,
   "metadata": {},
   "outputs": [
    {
     "data": {
      "text/plain": [
       "(2.1920465567410328,\n",
       " -2.575829303548901,\n",
       " 2.796939504772804,\n",
       " 0.01915678214208405)"
      ]
     },
     "execution_count": 29,
     "metadata": {},
     "output_type": "execute_result"
    }
   ],
   "source": [
    "t, ppf_lower, ppf_upper, p_value"
   ]
  },
  {
   "cell_type": "code",
   "execution_count": 46,
   "metadata": {},
   "outputs": [
    {
     "name": "stdout",
     "output_type": "stream",
     "text": [
      "No se rechaza H0\n"
     ]
    }
   ],
   "source": [
    "print('No se rechaza H0')"
   ]
  },
  {
   "cell_type": "markdown",
   "metadata": {},
   "source": [
    "# Ejercicio 5"
   ]
  },
  {
   "cell_type": "markdown",
   "metadata": {},
   "source": [
    "Matías tiene ocho años, y estableció un tiempo medio de 16.43 segundos para nadar 22 metros de estilo libre. Su padre, Paco, pensaba que Jeffrey podría disminuir este tiempo usando goggles. Paco le compró a Jeffrey un nuevo par de goggles y cronometró a Matías durante 15 pruebas de 22 metros estilo libre.\n",
    "\n",
    "En las 15 pruebas, el tiempo medio de Matías fue de 16 segundos, con una desviación estándar de 0.8 segundos. \n",
    "\n",
    "Paco pensó que las gafas ayudaban a Matías a nadar más rápido que antes. \n",
    "Elaborar una prueba de hipótesis utilizando un alfa= 0.05.\n"
   ]
  },
  {
   "cell_type": "markdown",
   "metadata": {},
   "source": [
    "Prueba de una cola: \n",
    "* H0: x no es < 16.43 segundos\n",
    "* H1: x < 16.43 segundos"
   ]
  },
  {
   "cell_type": "code",
   "execution_count": 31,
   "metadata": {},
   "outputs": [],
   "source": [
    "muestra = 15\n",
    "media = 16\n",
    "de = 0.8\n",
    "alpha = 0.05\n",
    "nadar = 16.43\n",
    "\n",
    "den = de / (muestra**0.5)\n",
    "\n",
    "t = (media - nadar) / den\n",
    "\n",
    "t_critico = stats.t.ppf(q = alpha, df = muestra - 1)\n",
    "p_value = stats.t.cdf(x = t, df = muestra - 1)"
   ]
  },
  {
   "cell_type": "code",
   "execution_count": 33,
   "metadata": {},
   "outputs": [
    {
     "data": {
      "text/plain": [
       "(-2.081728548586485, -1.7613101357748564, 0.028099370183143364)"
      ]
     },
     "execution_count": 33,
     "metadata": {},
     "output_type": "execute_result"
    }
   ],
   "source": [
    "t, t_critico, p_value"
   ]
  },
  {
   "cell_type": "code",
   "execution_count": 45,
   "metadata": {},
   "outputs": [
    {
     "name": "stdout",
     "output_type": "stream",
     "text": [
      "Se rechaza H0\n"
     ]
    }
   ],
   "source": [
    "print('Se rechaza H0')"
   ]
  },
  {
   "cell_type": "markdown",
   "metadata": {},
   "source": [
    "# Ejercicio 6"
   ]
  },
  {
   "cell_type": "markdown",
   "metadata": {},
   "source": [
    "El corcho natural de las botellas de vino se deteriora, por lo que el vino de las botellas puede contaminarse. El artículo \"Effects of Bottle Closure Type on Consumer Perceptions of Wine Quality\" (Amer. J. of Enology and Viticulture, 2007: 182-191) informó de que, en una cata de chardonnays comerciales, 16 de 91 botellas se consideraron estropeadas en cierta medida por características asociadas al corcho.\n",
    "\n",
    "¿Esta información es suficiente para concluir que más del 15% de todas esas botellas están contaminadas de esta manera? \n",
    "\n",
    "Utilizar un nivel de significancia igual a 0.10.\n"
   ]
  },
  {
   "cell_type": "markdown",
   "metadata": {},
   "source": [
    "Prueba de una cola: \n",
    "* H0: x no es > 0.15\n",
    "* H1: x > 0.15"
   ]
  },
  {
   "cell_type": "code",
   "execution_count": 40,
   "metadata": {},
   "outputs": [],
   "source": [
    "proporcion = 16/91\n",
    "test = 0.15\n",
    "muestra = 91\n",
    "alpha = 0.10\n",
    "\n",
    "divisor = (proporcion*(1-proporcion)/muestra)**0.5\n",
    "z_score = (proporcion - test)/divisor\n",
    "\n",
    "ppf = stats.norm(0,1).ppf(1-alpha)\n",
    "p_value = 1-stats.norm(0,1).cdf(z_score)\n"
   ]
  },
  {
   "cell_type": "code",
   "execution_count": 41,
   "metadata": {},
   "outputs": [
    {
     "data": {
      "text/plain": [
       "(0.6471395393061175, 1.2815515655446004, 0.2587708186734847)"
      ]
     },
     "execution_count": 41,
     "metadata": {},
     "output_type": "execute_result"
    }
   ],
   "source": [
    "z_score, ppf, p_value"
   ]
  },
  {
   "cell_type": "code",
   "execution_count": 44,
   "metadata": {},
   "outputs": [
    {
     "name": "stdout",
     "output_type": "stream",
     "text": [
      "No se rechaza H0 \n"
     ]
    }
   ],
   "source": [
    "print(\"No se rechaza H0 \")"
   ]
  }
 ],
 "metadata": {
  "kernelspec": {
   "display_name": "Python 3.9.12 ('base')",
   "language": "python",
   "name": "python3"
  },
  "language_info": {
   "codemirror_mode": {
    "name": "ipython",
    "version": 3
   },
   "file_extension": ".py",
   "mimetype": "text/x-python",
   "name": "python",
   "nbconvert_exporter": "python",
   "pygments_lexer": "ipython3",
   "version": "3.9.12"
  },
  "orig_nbformat": 4,
  "vscode": {
   "interpreter": {
    "hash": "e8a7e19183888612c7a8c2abe5f70eae990e5dd0696774dc201bbac8d01724d2"
   }
  }
 },
 "nbformat": 4,
 "nbformat_minor": 2
}
