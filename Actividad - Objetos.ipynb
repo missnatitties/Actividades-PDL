{
 "cells": [
  {
   "cell_type": "markdown",
   "metadata": {},
   "source": [
    "# Notas de clase"
   ]
  },
  {
   "cell_type": "markdown",
   "metadata": {},
   "source": [
    "* Creando la clase y ciertas funciones"
   ]
  },
  {
   "cell_type": "code",
   "execution_count": 3,
   "metadata": {},
   "outputs": [],
   "source": [
    "class Dog:\n",
    "    def __init__(self, name): \n",
    "        self.name = name\n",
    "    def bark(self):\n",
    "        return f\"woof! my name is {self.name}\""
   ]
  },
  {
   "cell_type": "markdown",
   "metadata": {},
   "source": [
    "* Creando objetos múltiples dentro de la clase\n",
    "* Empleando función para cada objeto dentro de un loop"
   ]
  },
  {
   "cell_type": "code",
   "execution_count": 2,
   "metadata": {},
   "outputs": [
    {
     "name": "stdout",
     "output_type": "stream",
     "text": [
      "dog 0 barking woof! my name is fido\n",
      "dog 1 barking woof! my name is lassy\n",
      "dog 2 barking woof! my name is milo\n"
     ]
    }
   ],
   "source": [
    "dogs = []\n",
    "for name in ['fido', 'lassy', 'milo']:\n",
    "    d = Dog(name)\n",
    "    dogs.append(d)\n",
    "\n",
    "for i, d in enumerate(dogs):\n",
    "    print(f\"dog {i} barking {d.bark()}\")"
   ]
  },
  {
   "cell_type": "markdown",
   "metadata": {},
   "source": [
    "* Self te ayuda a llamar la función de acuerdo con el objeto que hayas establecido previamente. "
   ]
  },
  {
   "cell_type": "markdown",
   "metadata": {},
   "source": [
    "# Actividad"
   ]
  },
  {
   "cell_type": "markdown",
   "metadata": {},
   "source": [
    "* Calculadora con >= 4 operaciones"
   ]
  },
  {
   "cell_type": "code",
   "execution_count": 4,
   "metadata": {},
   "outputs": [],
   "source": [
    "class Calculadora:\n",
    "    def __init__(self, number0, number1): \n",
    "        self.number0 = float(number0)\n",
    "        self.number1 = float(number1)\n",
    "    def sumar(self):\n",
    "        suma = self.number0 + self.number1\n",
    "        print(\"El resultado de la suma es:\", suma)\n",
    "    def restar(self):\n",
    "        resta = self.number0 - self.number1\n",
    "        print(\"El resultado de la resta es:\", resta)\n",
    "    def multiplicar(self):\n",
    "        multiplicar = self.number0 * self.number1\n",
    "        print(\"El resultado de la suma es:\", multiplicar)\n",
    "    def dividir(self):\n",
    "        dividir = self.number0 / self.number1\n",
    "        print(\"El resultado de la división es:\", dividir)\n",
    "    def potencia(self):\n",
    "        potencia = self.number0 ** self.number1\n",
    "        print(\"El resultado de la potencia es:\", potencia)\n",
    "        \n"
   ]
  },
  {
   "cell_type": "markdown",
   "metadata": {},
   "source": [
    "Comprobación"
   ]
  },
  {
   "cell_type": "code",
   "execution_count": 7,
   "metadata": {},
   "outputs": [],
   "source": [
    "Calculadora = Calculadora(3, 2)"
   ]
  },
  {
   "cell_type": "code",
   "execution_count": 9,
   "metadata": {},
   "outputs": [
    {
     "name": "stdout",
     "output_type": "stream",
     "text": [
      "El resultado de la potencia es: 9.0\n"
     ]
    }
   ],
   "source": [
    "Calculadora.potencia()"
   ]
  },
  {
   "cell_type": "code",
   "execution_count": 10,
   "metadata": {},
   "outputs": [
    {
     "name": "stdout",
     "output_type": "stream",
     "text": [
      "El resultado de la suma es: 5.0\n"
     ]
    }
   ],
   "source": [
    "Calculadora.sumar()"
   ]
  },
  {
   "cell_type": "code",
   "execution_count": 11,
   "metadata": {},
   "outputs": [
    {
     "name": "stdout",
     "output_type": "stream",
     "text": [
      "El resultado de la resta es: 1.0\n"
     ]
    }
   ],
   "source": [
    "Calculadora.restar()"
   ]
  },
  {
   "cell_type": "code",
   "execution_count": 12,
   "metadata": {},
   "outputs": [
    {
     "name": "stdout",
     "output_type": "stream",
     "text": [
      "El resultado de la suma es: 6.0\n"
     ]
    }
   ],
   "source": [
    "Calculadora.multiplicar()"
   ]
  },
  {
   "cell_type": "code",
   "execution_count": 13,
   "metadata": {},
   "outputs": [
    {
     "name": "stdout",
     "output_type": "stream",
     "text": [
      "El resultado de la división es: 1.5\n"
     ]
    }
   ],
   "source": [
    "Calculadora.dividir()"
   ]
  }
 ],
 "metadata": {
  "kernelspec": {
   "display_name": "Python 3.9.12 ('base')",
   "language": "python",
   "name": "python3"
  },
  "language_info": {
   "codemirror_mode": {
    "name": "ipython",
    "version": 3
   },
   "file_extension": ".py",
   "mimetype": "text/x-python",
   "name": "python",
   "nbconvert_exporter": "python",
   "pygments_lexer": "ipython3",
   "version": "3.9.12"
  },
  "orig_nbformat": 4,
  "vscode": {
   "interpreter": {
    "hash": "e8a7e19183888612c7a8c2abe5f70eae990e5dd0696774dc201bbac8d01724d2"
   }
  }
 },
 "nbformat": 4,
 "nbformat_minor": 2
}
