{
 "cells": [
  {
   "attachments": {},
   "cell_type": "markdown",
   "metadata": {},
   "source": [
    "# Parte 1"
   ]
  },
  {
   "cell_type": "code",
   "execution_count": 1,
   "metadata": {},
   "outputs": [],
   "source": [
    "from sklearn import datasets\n",
    "from sklearn.metrics import mean_squared_error\n",
    "from sklearn.model_selection import KFold, train_test_split, cross_val_score\n",
    "from sklearn.neighbors import KNeighborsRegressor, KNeighborsClassifier\n",
    "import numpy as np\n",
    "import pandas as pd\n"
   ]
  },
  {
   "attachments": {},
   "cell_type": "markdown",
   "metadata": {},
   "source": [
    "Carga de datos"
   ]
  },
  {
   "cell_type": "code",
   "execution_count": 2,
   "metadata": {},
   "outputs": [
    {
     "data": {
      "text/html": [
       "<div>\n",
       "<style scoped>\n",
       "    .dataframe tbody tr th:only-of-type {\n",
       "        vertical-align: middle;\n",
       "    }\n",
       "\n",
       "    .dataframe tbody tr th {\n",
       "        vertical-align: top;\n",
       "    }\n",
       "\n",
       "    .dataframe thead th {\n",
       "        text-align: right;\n",
       "    }\n",
       "</style>\n",
       "<table border=\"1\" class=\"dataframe\">\n",
       "  <thead>\n",
       "    <tr style=\"text-align: right;\">\n",
       "      <th></th>\n",
       "      <th>Unnamed: 0</th>\n",
       "      <th>crim</th>\n",
       "      <th>zn</th>\n",
       "      <th>indus</th>\n",
       "      <th>chas</th>\n",
       "      <th>nox</th>\n",
       "      <th>rm</th>\n",
       "      <th>age</th>\n",
       "      <th>dis</th>\n",
       "      <th>rad</th>\n",
       "      <th>tax</th>\n",
       "      <th>ptratio</th>\n",
       "      <th>black</th>\n",
       "      <th>lstat</th>\n",
       "      <th>medv</th>\n",
       "    </tr>\n",
       "  </thead>\n",
       "  <tbody>\n",
       "    <tr>\n",
       "      <th>0</th>\n",
       "      <td>1</td>\n",
       "      <td>0.00632</td>\n",
       "      <td>18.0</td>\n",
       "      <td>2.31</td>\n",
       "      <td>0</td>\n",
       "      <td>0.538</td>\n",
       "      <td>6.575</td>\n",
       "      <td>65.2</td>\n",
       "      <td>4.09</td>\n",
       "      <td>1</td>\n",
       "      <td>296</td>\n",
       "      <td>15.3</td>\n",
       "      <td>396.9</td>\n",
       "      <td>4.98</td>\n",
       "      <td>24.0</td>\n",
       "    </tr>\n",
       "  </tbody>\n",
       "</table>\n",
       "</div>"
      ],
      "text/plain": [
       "   Unnamed: 0     crim    zn  indus  chas    nox     rm   age   dis  rad  tax  \\\n",
       "0           1  0.00632  18.0   2.31     0  0.538  6.575  65.2  4.09    1  296   \n",
       "\n",
       "   ptratio  black  lstat  medv  \n",
       "0     15.3  396.9   4.98  24.0  "
      ]
     },
     "execution_count": 2,
     "metadata": {},
     "output_type": "execute_result"
    }
   ],
   "source": [
    "boston = pd.read_csv('Boston.csv')\n",
    "boston.head(1)"
   ]
  },
  {
   "cell_type": "code",
   "execution_count": 4,
   "metadata": {},
   "outputs": [],
   "source": [
    "X = boston[['crim', 'zn', 'indus', 'chas', 'nox', 'rm', 'age', 'dis', 'rad', 'tax', 'ptratio', 'black', 'lstat']]\n",
    "y = boston[['medv']]\n"
   ]
  },
  {
   "attachments": {},
   "cell_type": "markdown",
   "metadata": {},
   "source": [
    "División de datos"
   ]
  },
  {
   "cell_type": "code",
   "execution_count": 14,
   "metadata": {},
   "outputs": [],
   "source": [
    "from sklearn.model_selection import train_test_split\n",
    "X_train, X_test, y_train, y_test= train_test_split(X, y,\n",
    "                                                   test_size= 0.25,\n",
    "                                                   shuffle= True, #aleatorizar los datos\n",
    "                                                   random_state= 0) "
   ]
  },
  {
   "attachments": {},
   "cell_type": "markdown",
   "metadata": {},
   "source": [
    "# Parte 2"
   ]
  },
  {
   "attachments": {},
   "cell_type": "markdown",
   "metadata": {},
   "source": [
    "Función RMSE"
   ]
  },
  {
   "cell_type": "code",
   "execution_count": 6,
   "metadata": {},
   "outputs": [],
   "source": [
    "import math  \n",
    "import numpy as np  \n",
    "\n",
    "def rmse(true, predicted):\n",
    "  y = np.array(true)\n",
    "  y_hat = np.array(predicted)\n",
    "  n = len(true)\n",
    "  summation = 0 \n",
    "  for i in range (0,n):  #looping through each element of the list\n",
    "    difference = y[i] - y_hat[i]  #finding the difference between observed and predicted value\n",
    "    squared_difference = difference**2  #taking square of the differene \n",
    "    summation = summation + squared_difference  #taking a sum of all the differences\n",
    "  MSE = summation/n  #dividing summation by total values to obtain average\n",
    "  RMSE = math.sqrt(MSE)\n",
    "  print('RMSE empleando fórmula manual: ' , RMSE)\n"
   ]
  },
  {
   "attachments": {},
   "cell_type": "markdown",
   "metadata": {},
   "source": [
    "Comprobación de fórmula"
   ]
  },
  {
   "cell_type": "code",
   "execution_count": 7,
   "metadata": {},
   "outputs": [
    {
     "name": "stdout",
     "output_type": "stream",
     "text": [
      "RMSE utilizando mean_squared_error de sklearn.metrics:  0.6123724356957945\n",
      "RMSE empleando fórmula manual:  0.6123724356957945\n"
     ]
    }
   ],
   "source": [
    "y_testing = [3, -0.5, 2, 7]\n",
    "y_predicted = [2.5, 0.0, 2, 8]\n",
    "print('RMSE utilizando mean_squared_error de sklearn.metrics: ',mean_squared_error(y_testing, y_predicted)**0.5)\n",
    "rmse(y_predicted, y_testing)"
   ]
  },
  {
   "attachments": {},
   "cell_type": "markdown",
   "metadata": {},
   "source": [
    "Modelo con datos de entrenamiento"
   ]
  },
  {
   "cell_type": "code",
   "execution_count": 8,
   "metadata": {},
   "outputs": [],
   "source": [
    "reg = KNeighborsRegressor(3)\n",
    "reg.fit(X_train, y_train)\n",
    "train_predicted = reg.predict(X_train)\n",
    "test_predicted = reg.predict(X_test)\n"
   ]
  },
  {
   "cell_type": "code",
   "execution_count": 9,
   "metadata": {},
   "outputs": [
    {
     "name": "stdout",
     "output_type": "stream",
     "text": [
      "RMSE empleando fórmula manual:  4.311224977113058\n",
      "RMSE utilizando mean_squared_error de sklearn.metrics:  4.311224977113059\n"
     ]
    }
   ],
   "source": [
    "rmse(true=y_train, predicted=train_predicted)\n",
    "print('RMSE utilizando mean_squared_error de sklearn.metrics: ',mean_squared_error(y_train, train_predicted)**0.5)"
   ]
  },
  {
   "attachments": {},
   "cell_type": "markdown",
   "metadata": {},
   "source": [
    "La ventaja de calcular RMSE en un set de datos de prueba y de entrenamiento es que te permite ver qué tan bueno es el modelo para predecir el comportamiento de Y bajo un ambiente que no reconoce (Es decir, en casos donde no ha observado qué valor toma Y al tener ciertas características de X)"
   ]
  },
  {
   "attachments": {},
   "cell_type": "markdown",
   "metadata": {},
   "source": [
    "# Parte 3"
   ]
  },
  {
   "cell_type": "code",
   "execution_count": 11,
   "metadata": {},
   "outputs": [],
   "source": [
    "from sklearn.model_selection import train_test_split\n",
    "from sklearn.model_selection import KFold\n",
    "from sklearn.model_selection import cross_val_score\n",
    "from sklearn.linear_model import LinearRegression\n",
    "from numpy import mean\n",
    "from numpy import absolute\n",
    "from numpy import sqrt\n",
    "import pandas as pd"
   ]
  },
  {
   "attachments": {},
   "cell_type": "markdown",
   "metadata": {},
   "source": [
    "Validación cruzada"
   ]
  },
  {
   "cell_type": "code",
   "execution_count": 19,
   "metadata": {},
   "outputs": [],
   "source": [
    "def cross_val(X_train, y_train, k):\n",
    "     k_splits = KFold(n_splits=k, random_state=1, shuffle=True) \n",
    "     reg = KNeighborsRegressor(3)\n",
    "     reg.fit(X_train, y_train)\n",
    "     scores = cross_val_score(reg, X=X_train, y=y_train, cv=k_splits, n_jobs=1)\n",
    "     print('RMSE', sqrt(mean(absolute(scores))))"
   ]
  },
  {
   "cell_type": "code",
   "execution_count": 20,
   "metadata": {},
   "outputs": [
    {
     "name": "stdout",
     "output_type": "stream",
     "text": [
      "RMSE 0.7307878854022966\n"
     ]
    }
   ],
   "source": [
    "cross_val(X_train=X_train, y_train=y_train, k=5)  "
   ]
  },
  {
   "cell_type": "code",
   "execution_count": 24,
   "metadata": {},
   "outputs": [
    {
     "name": "stdout",
     "output_type": "stream",
     "text": [
      "RMSE empleando fórmula manual:  4.311224977113058\n",
      "RMSE utilizando mean_squared_error de sklearn.metrics:  4.311224977113059\n"
     ]
    }
   ],
   "source": [
    "reg = KNeighborsRegressor(3)\n",
    "reg.fit(X_train, y_train)\n",
    "train_predicted = reg.predict(X_train)\n",
    "test_predicted = reg.predict(X_test)\n",
    "rmse(true=y_train, predicted=train_predicted)\n",
    "print('RMSE utilizando mean_squared_error de sklearn.metrics: ',mean_squared_error(y_train, train_predicted)**0.5)"
   ]
  },
  {
   "attachments": {},
   "cell_type": "markdown",
   "metadata": {},
   "source": [
    "# Parte 4"
   ]
  },
  {
   "cell_type": "code",
   "execution_count": 34,
   "metadata": {},
   "outputs": [
    {
     "data": {
      "image/png": "[encoded data removed]",
      "text/plain": [
       "<Figure size 640x480 with 1 Axes>"
      ]
     },
     "metadata": {},
     "output_type": "display_data"
    }
   ],
   "source": [
    "rmse_resultados_train = []\n",
    "rmse_resultados_test = []\n",
    "\n",
    "for num in range(1,101):\n",
    "    reg = KNeighborsRegressor(num)\n",
    "    reg.fit(X_train, y_train)\n",
    "    train_predicted = reg.predict(X_train)\n",
    "    test_predicted = reg.predict(X_test)\n",
    "    rmse = mean_squared_error(y_train, train_predicted)**0.5\n",
    "    rmse_resultados_train.append(rmse)\n",
    "    rmse = mean_squared_error(y_test, test_predicted)**0.5\n",
    "    rmse_resultados_test.append(rmse)\n",
    "\n",
    "import matplotlib.pyplot as plt\n",
    "plt.plot(rmse_resultados_train,'g*', rmse_resultados_test, 'ro')\n",
    "plt.legend([\"Train\", \"Test\"], loc =\"lower right\")\n",
    "plt.ylabel('RMSE')\n",
    "plt.xlabel('K')\n",
    "plt.show()"
   ]
  },
  {
   "attachments": {},
   "cell_type": "markdown",
   "metadata": {},
   "source": [
    "Cuando K es pequeño, el error cuadrático medio es menor en comparación con un valor de K mayor. Implica que el margen de error aumenta conforme el número de vecinos cercanos de referencia aumenta; especialmente importante si se tienen muchas variables predictoras."
   ]
  }
 ],
 "metadata": {
  "kernelspec": {
   "display_name": "Python 3",
   "language": "python",
   "name": "python3"
  },
  "language_info": {
   "codemirror_mode": {
    "name": "ipython",
    "version": 3
   },
   "file_extension": ".py",
   "mimetype": "text/x-python",
   "name": "python",
   "nbconvert_exporter": "python",
   "pygments_lexer": "ipython3",
   "version": "3.11.1"
  },
  "orig_nbformat": 4,
  "vscode": {
   "interpreter": {
    "hash": "eea9129ac0da676251298d3d8b90b597992a002f977ae73d6ae62613d9b197a3"
   }
  }
 },
 "nbformat": 4,
 "nbformat_minor": 2
}
