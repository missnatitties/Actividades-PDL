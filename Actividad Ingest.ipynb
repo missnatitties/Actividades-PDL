{
 "cells": [
  {
   "cell_type": "code",
   "execution_count": 1,
   "id": "eb1cbcf6",
   "metadata": {},
   "outputs": [],
   "source": [
    "import pandas as pd\n",
    "import numpy as np\n",
    "import requests\n",
    "import pickle"
   ]
  },
  {
   "cell_type": "markdown",
   "id": "a342206e",
   "metadata": {},
   "source": [
    "## Parte 1 - Lectura de CSV"
   ]
  },
  {
   "cell_type": "code",
   "execution_count": 7,
   "id": "3831572c",
   "metadata": {},
   "outputs": [],
   "source": [
    "df1 = pd.read_csv('./Files actividades/Machine-readable-business-employment-data-sep-2021-quarter.csv')\n",
    "df2 = pd.read_csv('./Files actividades/annual-enterprise-survey-2020-financial-year-provisional-csv.csv')\n",
    "df3 = pd.read_csv('./Files Actividades/electronic-card-transactions-november-2021-csv-tables.csv')"
   ]
  },
  {
   "cell_type": "markdown",
   "id": "6b0c553e",
   "metadata": {},
   "source": [
    "## Parte 2 - Lectura de XLSX"
   ]
  },
  {
   "cell_type": "code",
   "execution_count": 11,
   "id": "19a8129c",
   "metadata": {},
   "outputs": [],
   "source": [
    "df4 = pd.read_excel('./Files actividades/SampleData.xlsx', sheet_name = 'SalesOrders')\n",
    "df5 = pd.read_excel('./Files actividades/sampledatafoodsales.xlsx', sheet_name = 'FoodSales')\n",
    "df6 = pd.read_excel('./Files actividades/sampledatainsurance.xlsx', sheet_name = 'PolicyData')"
   ]
  },
  {
   "cell_type": "markdown",
   "id": "cfdbc2bc",
   "metadata": {},
   "source": [
    "## Parte 3 - Lectura de JSON"
   ]
  },
  {
   "cell_type": "code",
   "execution_count": 13,
   "id": "457eaf6a",
   "metadata": {},
   "outputs": [],
   "source": [
    "df7 = pd.json_normalize(requests.get('https://jsonplaceholder.typicode.com/todos').json())\n",
    "df8 = pd.json_normalize(requests.get('https://jsonplaceholder.typicode.com/photos').json())\n",
    "df9 = pd.json_normalize(requests.get('https://jsonplaceholder.typicode.com/albums').json())"
   ]
  },
  {
   "cell_type": "markdown",
   "id": "fc5f99ff",
   "metadata": {},
   "source": [
    "## Parte 4 - Convertir a distintos formatos"
   ]
  },
  {
   "cell_type": "code",
   "execution_count": 15,
   "id": "5ed6d9e9",
   "metadata": {},
   "outputs": [],
   "source": [
    "def exportar(df, name):\n",
    "    df.to_csv(f'./Ingest Output/{name}.csv')\n",
    "    df.to_excel(f'./Ingest Output/{name}.xlsx')\n",
    "    df.to_json(f'./Ingest Output/{name}.json')\n",
    "    \n",
    "exportar(df1, 'df1')\n",
    "exportar(df2, 'df2')\n",
    "exportar(df3, 'df3')\n",
    "exportar(df4, 'df4')\n",
    "exportar(df5, 'df5')\n",
    "exportar(df6, 'df6')\n",
    "exportar(df7, 'df7')\n",
    "exportar(df8, 'df8')\n",
    "exportar(df9, 'df9')"
   ]
  },
  {
   "cell_type": "markdown",
   "id": "4c206b99",
   "metadata": {},
   "source": [
    "## Parte 5 - Hacer pickle y un-pickle"
   ]
  },
  {
   "cell_type": "code",
   "execution_count": 19,
   "id": "ee8b75fa",
   "metadata": {},
   "outputs": [],
   "source": [
    "#Protocolo tiene que ver con la versión de transformar la información a bites. \n",
    "#Protocolo 0: puedes leer el texto\n",
    "#Protocolo 4: ilegible, mayor codificación\n",
    "\n",
    "def pickling(df, name):\n",
    "    with open(f'./Ingest Output/{name}.pickle', 'wb') as f:\n",
    "        pickle.dump(df, f, protocol = 5)\n",
    "        \n",
    "pickling(df1, 'df1')\n",
    "pickling(df2, 'df2')\n",
    "pickling(df3, 'df3')\n",
    "pickling(df4, 'df4')\n",
    "pickling(df5, 'df5')\n",
    "pickling(df6, 'df6')\n",
    "pickling(df7, 'df7')\n",
    "pickling(df8, 'df8')\n",
    "pickling(df9, 'df9')"
   ]
  },
  {
   "cell_type": "code",
   "execution_count": 20,
   "id": "097df499",
   "metadata": {},
   "outputs": [
    {
     "name": "stdout",
     "output_type": "stream",
     "text": [
      "df1 : (19093, 14)\n",
      "df2 : (37080, 10)\n",
      "df3 : (18240, 14)\n",
      "df4 : (43, 7)\n",
      "df5 : (244, 8)\n",
      "df6 : (500, 10)\n",
      "df7 : (200, 4)\n",
      "df8 : (5000, 5)\n",
      "df9 : (100, 3)\n"
     ]
    }
   ],
   "source": [
    "def unpickling(df, name):\n",
    "    with open(f'./Ingest Output/{name}.pickle', 'rb') as f:\n",
    "        print(name, ':', pickle.load(f).shape)\n",
    "        \n",
    "unpickling(df1, 'df1')\n",
    "unpickling(df2, 'df2')\n",
    "unpickling(df3, 'df3')\n",
    "unpickling(df4, 'df4')\n",
    "unpickling(df5, 'df5')\n",
    "unpickling(df6, 'df6')\n",
    "unpickling(df7, 'df7')\n",
    "unpickling(df8, 'df8')\n",
    "unpickling(df9, 'df9')"
   ]
  }
 ],
 "metadata": {
  "kernelspec": {
   "display_name": "Python 3 (ipykernel)",
   "language": "python",
   "name": "python3"
  },
  "language_info": {
   "codemirror_mode": {
    "name": "ipython",
    "version": 3
   },
   "file_extension": ".py",
   "mimetype": "text/x-python",
   "name": "python",
   "nbconvert_exporter": "python",
   "pygments_lexer": "ipython3",
   "version": "3.9.12"
  }
 },
 "nbformat": 4,
 "nbformat_minor": 5
}
